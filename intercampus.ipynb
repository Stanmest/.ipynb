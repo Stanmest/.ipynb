{
 "cells": [
  {
   "cell_type": "code",
   "execution_count": 1,
   "metadata": {
    "collapsed": true
   },
   "outputs": [],
   "source": [
    "\n",
    "import numpy as np\n",
    "import pandas as pd\n",
    "\n",
    "\n",
    "#Read files:\n",
    "train = pd.read_csv(\"C:/Users/Emma/datasciencenigeriacomp1streg/train.csv\")\n",
    "test = pd.read_csv(\"C:/Users/Emma/datasciencenigeriacomp1streg/test.csv\")"
   ]
  },
  {
   "cell_type": "code",
   "execution_count": 2,
   "metadata": {},
   "outputs": [
    {
     "data": {
      "text/html": [
       "<div>\n",
       "<style scoped>\n",
       "    .dataframe tbody tr th:only-of-type {\n",
       "        vertical-align: middle;\n",
       "    }\n",
       "\n",
       "    .dataframe tbody tr th {\n",
       "        vertical-align: top;\n",
       "    }\n",
       "\n",
       "    .dataframe thead th {\n",
       "        text-align: right;\n",
       "    }\n",
       "</style>\n",
       "<table border=\"1\" class=\"dataframe\">\n",
       "  <thead>\n",
       "    <tr style=\"text-align: right;\">\n",
       "      <th></th>\n",
       "      <th>Product_Identifier</th>\n",
       "      <th>Supermarket_Identifier</th>\n",
       "      <th>Product_Supermarket_Identifier</th>\n",
       "      <th>Product_Weight</th>\n",
       "      <th>Product_Fat_Content</th>\n",
       "      <th>Product_Shelf_Visibility</th>\n",
       "      <th>Product_Type</th>\n",
       "      <th>Product_Price</th>\n",
       "      <th>Supermarket_Opening_Year</th>\n",
       "      <th>Supermarket _Size</th>\n",
       "      <th>Supermarket_Location_Type</th>\n",
       "      <th>Supermarket_Type</th>\n",
       "      <th>Product_Supermarket_Sales</th>\n",
       "    </tr>\n",
       "  </thead>\n",
       "  <tbody>\n",
       "    <tr>\n",
       "      <th>0</th>\n",
       "      <td>DRA12</td>\n",
       "      <td>CHUKWUDI010</td>\n",
       "      <td>DRA12_CHUKWUDI010</td>\n",
       "      <td>11.6</td>\n",
       "      <td>Low Fat</td>\n",
       "      <td>0.068535</td>\n",
       "      <td>Soft Drinks</td>\n",
       "      <td>357.54</td>\n",
       "      <td>2005</td>\n",
       "      <td>NaN</td>\n",
       "      <td>Cluster 3</td>\n",
       "      <td>Grocery Store</td>\n",
       "      <td>709.08</td>\n",
       "    </tr>\n",
       "    <tr>\n",
       "      <th>1</th>\n",
       "      <td>DRA12</td>\n",
       "      <td>CHUKWUDI013</td>\n",
       "      <td>DRA12_CHUKWUDI013</td>\n",
       "      <td>11.6</td>\n",
       "      <td>Low Fat</td>\n",
       "      <td>0.040912</td>\n",
       "      <td>Soft Drinks</td>\n",
       "      <td>355.79</td>\n",
       "      <td>1994</td>\n",
       "      <td>High</td>\n",
       "      <td>Cluster 3</td>\n",
       "      <td>Supermarket Type1</td>\n",
       "      <td>6381.69</td>\n",
       "    </tr>\n",
       "    <tr>\n",
       "      <th>2</th>\n",
       "      <td>DRA12</td>\n",
       "      <td>CHUKWUDI017</td>\n",
       "      <td>DRA12_CHUKWUDI017</td>\n",
       "      <td>11.6</td>\n",
       "      <td>Low Fat</td>\n",
       "      <td>0.041178</td>\n",
       "      <td>Soft Drinks</td>\n",
       "      <td>350.79</td>\n",
       "      <td>2014</td>\n",
       "      <td>NaN</td>\n",
       "      <td>Cluster 2</td>\n",
       "      <td>Supermarket Type1</td>\n",
       "      <td>6381.69</td>\n",
       "    </tr>\n",
       "    <tr>\n",
       "      <th>3</th>\n",
       "      <td>DRA12</td>\n",
       "      <td>CHUKWUDI018</td>\n",
       "      <td>DRA12_CHUKWUDI018</td>\n",
       "      <td>11.6</td>\n",
       "      <td>Low Fat</td>\n",
       "      <td>0.041113</td>\n",
       "      <td>Soft Drinks</td>\n",
       "      <td>355.04</td>\n",
       "      <td>2016</td>\n",
       "      <td>Medium</td>\n",
       "      <td>Cluster 3</td>\n",
       "      <td>Supermarket Type2</td>\n",
       "      <td>2127.23</td>\n",
       "    </tr>\n",
       "    <tr>\n",
       "      <th>4</th>\n",
       "      <td>DRA12</td>\n",
       "      <td>CHUKWUDI035</td>\n",
       "      <td>DRA12_CHUKWUDI035</td>\n",
       "      <td>11.6</td>\n",
       "      <td>Ultra Low fat</td>\n",
       "      <td>0.000000</td>\n",
       "      <td>Soft Drinks</td>\n",
       "      <td>354.79</td>\n",
       "      <td>2011</td>\n",
       "      <td>Small</td>\n",
       "      <td>Cluster 2</td>\n",
       "      <td>Supermarket Type1</td>\n",
       "      <td>2481.77</td>\n",
       "    </tr>\n",
       "  </tbody>\n",
       "</table>\n",
       "</div>"
      ],
      "text/plain": [
       "  Product_Identifier Supermarket_Identifier Product_Supermarket_Identifier  \\\n",
       "0              DRA12            CHUKWUDI010              DRA12_CHUKWUDI010   \n",
       "1              DRA12            CHUKWUDI013              DRA12_CHUKWUDI013   \n",
       "2              DRA12            CHUKWUDI017              DRA12_CHUKWUDI017   \n",
       "3              DRA12            CHUKWUDI018              DRA12_CHUKWUDI018   \n",
       "4              DRA12            CHUKWUDI035              DRA12_CHUKWUDI035   \n",
       "\n",
       "   Product_Weight Product_Fat_Content  Product_Shelf_Visibility Product_Type  \\\n",
       "0            11.6             Low Fat                  0.068535  Soft Drinks   \n",
       "1            11.6             Low Fat                  0.040912  Soft Drinks   \n",
       "2            11.6             Low Fat                  0.041178  Soft Drinks   \n",
       "3            11.6             Low Fat                  0.041113  Soft Drinks   \n",
       "4            11.6       Ultra Low fat                  0.000000  Soft Drinks   \n",
       "\n",
       "   Product_Price  Supermarket_Opening_Year Supermarket _Size  \\\n",
       "0         357.54                      2005               NaN   \n",
       "1         355.79                      1994              High   \n",
       "2         350.79                      2014               NaN   \n",
       "3         355.04                      2016            Medium   \n",
       "4         354.79                      2011             Small   \n",
       "\n",
       "  Supermarket_Location_Type   Supermarket_Type  Product_Supermarket_Sales  \n",
       "0                 Cluster 3      Grocery Store                     709.08  \n",
       "1                 Cluster 3  Supermarket Type1                    6381.69  \n",
       "2                 Cluster 2  Supermarket Type1                    6381.69  \n",
       "3                 Cluster 3  Supermarket Type2                    2127.23  \n",
       "4                 Cluster 2  Supermarket Type1                    2481.77  "
      ]
     },
     "execution_count": 2,
     "metadata": {},
     "output_type": "execute_result"
    }
   ],
   "source": [
    "train[:5]"
   ]
  },
  {
   "cell_type": "code",
   "execution_count": 3,
   "metadata": {},
   "outputs": [
    {
     "data": {
      "text/plain": [
       "False"
      ]
     },
     "execution_count": 3,
     "metadata": {},
     "output_type": "execute_result"
    }
   ],
   "source": [
    "# check discrepancy btw two sets\n",
    "train.columns.equals(test.columns)"
   ]
  },
  {
   "cell_type": "code",
   "execution_count": 4,
   "metadata": {},
   "outputs": [
    {
     "data": {
      "text/plain": [
       "Index(['Product_Supermarket_Sales'], dtype='object')"
      ]
     },
     "execution_count": 4,
     "metadata": {},
     "output_type": "execute_result"
    }
   ],
   "source": [
    "# check different column\n",
    "train.columns.difference(test.columns)"
   ]
  },
  {
   "cell_type": "code",
   "execution_count": 5,
   "metadata": {},
   "outputs": [
    {
     "name": "stdout",
     "output_type": "stream",
     "text": [
      "(4990, 14) (3532, 13) (8522, 14)\n"
     ]
    },
    {
     "name": "stderr",
     "output_type": "stream",
     "text": [
      "C:\\Users\\Emma\\AppData\\Local\\Enthought\\Canopy\\edm\\envs\\User\\lib\\site-packages\\ipykernel_launcher.py:4: FutureWarning: Sorting because non-concatenation axis is not aligned. A future version\n",
      "of pandas will change to not sort by default.\n",
      "\n",
      "To accept the future behavior, pass 'sort=False'.\n",
      "\n",
      "To retain the current behavior and silence the warning, pass 'sort=True'.\n",
      "\n",
      "  after removing the cwd from sys.path.\n"
     ]
    }
   ],
   "source": [
    "# combine two sets\n",
    "train['source'] = 'train'\n",
    "test['source'] = 'test'\n",
    "data = pd.concat([train, test], ignore_index=True)\n",
    "print(train.shape, test.shape, data.shape)"
   ]
  },
  {
   "cell_type": "code",
   "execution_count": 6,
   "metadata": {},
   "outputs": [
    {
     "data": {
      "text/html": [
       "<div>\n",
       "<style scoped>\n",
       "    .dataframe tbody tr th:only-of-type {\n",
       "        vertical-align: middle;\n",
       "    }\n",
       "\n",
       "    .dataframe tbody tr th {\n",
       "        vertical-align: top;\n",
       "    }\n",
       "\n",
       "    .dataframe thead th {\n",
       "        text-align: right;\n",
       "    }\n",
       "</style>\n",
       "<table border=\"1\" class=\"dataframe\">\n",
       "  <thead>\n",
       "    <tr style=\"text-align: right;\">\n",
       "      <th></th>\n",
       "      <th>Product_Price</th>\n",
       "      <th>Product_Shelf_Visibility</th>\n",
       "      <th>Product_Supermarket_Sales</th>\n",
       "      <th>Product_Weight</th>\n",
       "      <th>Supermarket_Opening_Year</th>\n",
       "    </tr>\n",
       "  </thead>\n",
       "  <tbody>\n",
       "    <tr>\n",
       "      <th>count</th>\n",
       "      <td>8522.000000</td>\n",
       "      <td>8522.000000</td>\n",
       "      <td>4990.000000</td>\n",
       "      <td>7059.000000</td>\n",
       "      <td>8522.000000</td>\n",
       "    </tr>\n",
       "    <tr>\n",
       "      <th>mean</th>\n",
       "      <td>352.471687</td>\n",
       "      <td>0.066134</td>\n",
       "      <td>6103.520164</td>\n",
       "      <td>12.857115</td>\n",
       "      <td>2004.831847</td>\n",
       "    </tr>\n",
       "    <tr>\n",
       "      <th>std</th>\n",
       "      <td>155.693760</td>\n",
       "      <td>0.051600</td>\n",
       "      <td>4447.333835</td>\n",
       "      <td>4.643572</td>\n",
       "      <td>8.372251</td>\n",
       "    </tr>\n",
       "    <tr>\n",
       "      <th>min</th>\n",
       "      <td>78.230000</td>\n",
       "      <td>0.000000</td>\n",
       "      <td>83.230000</td>\n",
       "      <td>4.555000</td>\n",
       "      <td>1992.000000</td>\n",
       "    </tr>\n",
       "    <tr>\n",
       "      <th>25%</th>\n",
       "      <td>234.542500</td>\n",
       "      <td>0.026988</td>\n",
       "      <td>2757.660000</td>\n",
       "      <td>8.772500</td>\n",
       "      <td>1994.000000</td>\n",
       "    </tr>\n",
       "    <tr>\n",
       "      <th>50%</th>\n",
       "      <td>357.450000</td>\n",
       "      <td>0.053935</td>\n",
       "      <td>5374.675000</td>\n",
       "      <td>12.600000</td>\n",
       "      <td>2006.000000</td>\n",
       "    </tr>\n",
       "    <tr>\n",
       "      <th>75%</th>\n",
       "      <td>464.130000</td>\n",
       "      <td>0.094594</td>\n",
       "      <td>8522.240000</td>\n",
       "      <td>16.850000</td>\n",
       "      <td>2011.000000</td>\n",
       "    </tr>\n",
       "    <tr>\n",
       "      <th>max</th>\n",
       "      <td>667.220000</td>\n",
       "      <td>0.328391</td>\n",
       "      <td>32717.410000</td>\n",
       "      <td>21.350000</td>\n",
       "      <td>2016.000000</td>\n",
       "    </tr>\n",
       "  </tbody>\n",
       "</table>\n",
       "</div>"
      ],
      "text/plain": [
       "       Product_Price  Product_Shelf_Visibility  Product_Supermarket_Sales  \\\n",
       "count    8522.000000               8522.000000                4990.000000   \n",
       "mean      352.471687                  0.066134                6103.520164   \n",
       "std       155.693760                  0.051600                4447.333835   \n",
       "min        78.230000                  0.000000                  83.230000   \n",
       "25%       234.542500                  0.026988                2757.660000   \n",
       "50%       357.450000                  0.053935                5374.675000   \n",
       "75%       464.130000                  0.094594                8522.240000   \n",
       "max       667.220000                  0.328391               32717.410000   \n",
       "\n",
       "       Product_Weight  Supermarket_Opening_Year  \n",
       "count     7059.000000               8522.000000  \n",
       "mean        12.857115               2004.831847  \n",
       "std          4.643572                  8.372251  \n",
       "min          4.555000               1992.000000  \n",
       "25%          8.772500               1994.000000  \n",
       "50%         12.600000               2006.000000  \n",
       "75%         16.850000               2011.000000  \n",
       "max         21.350000               2016.000000  "
      ]
     },
     "execution_count": 6,
     "metadata": {},
     "output_type": "execute_result"
    }
   ],
   "source": [
    "data.describe()"
   ]
  },
  {
   "cell_type": "code",
   "execution_count": 7,
   "metadata": {},
   "outputs": [
    {
     "data": {
      "text/plain": [
       "Index(['Product_Fat_Content', 'Product_Identifier', 'Product_Price',\n",
       "       'Product_Shelf_Visibility', 'Product_Supermarket_Identifier',\n",
       "       'Product_Supermarket_Sales', 'Product_Type', 'Product_Weight',\n",
       "       'Supermarket _Size', 'Supermarket_Identifier',\n",
       "       'Supermarket_Location_Type', 'Supermarket_Opening_Year',\n",
       "       'Supermarket_Type', 'source'],\n",
       "      dtype='object')"
      ]
     },
     "execution_count": 7,
     "metadata": {},
     "output_type": "execute_result"
    }
   ],
   "source": [
    "data.columns"
   ]
  },
  {
   "cell_type": "code",
   "execution_count": 8,
   "metadata": {},
   "outputs": [
    {
     "data": {
      "text/plain": [
       "Product_Fat_Content                object\n",
       "Product_Identifier                 object\n",
       "Product_Price                     float64\n",
       "Product_Shelf_Visibility          float64\n",
       "Product_Supermarket_Identifier     object\n",
       "Product_Supermarket_Sales         float64\n",
       "Product_Type                       object\n",
       "Product_Weight                    float64\n",
       "Supermarket _Size                  object\n",
       "Supermarket_Identifier             object\n",
       "Supermarket_Location_Type          object\n",
       "Supermarket_Opening_Year            int64\n",
       "Supermarket_Type                   object\n",
       "source                             object\n",
       "dtype: object"
      ]
     },
     "execution_count": 8,
     "metadata": {},
     "output_type": "execute_result"
    }
   ],
   "source": [
    "data.dtypes"
   ]
  },
  {
   "cell_type": "code",
   "execution_count": 9,
   "metadata": {},
   "outputs": [
    {
     "data": {
      "text/plain": [
       "Product_Fat_Content                  0\n",
       "Product_Identifier                   0\n",
       "Product_Price                        0\n",
       "Product_Shelf_Visibility             0\n",
       "Product_Supermarket_Identifier       0\n",
       "Product_Supermarket_Sales         3532\n",
       "Product_Type                         0\n",
       "Product_Weight                    1463\n",
       "Supermarket _Size                 2409\n",
       "Supermarket_Identifier               0\n",
       "Supermarket_Location_Type            0\n",
       "Supermarket_Opening_Year             0\n",
       "Supermarket_Type                     0\n",
       "source                               0\n",
       "dtype: int64"
      ]
     },
     "execution_count": 9,
     "metadata": {},
     "output_type": "execute_result"
    }
   ],
   "source": [
    "# check missing value\n",
    "data.apply(lambda x: sum(x.isnull()))"
   ]
  },
  {
   "cell_type": "code",
   "execution_count": 10,
   "metadata": {},
   "outputs": [
    {
     "data": {
      "text/plain": [
       "Product_Fat_Content                  3\n",
       "Product_Identifier                1559\n",
       "Product_Price                     5418\n",
       "Product_Shelf_Visibility          7879\n",
       "Product_Supermarket_Identifier    8522\n",
       "Product_Supermarket_Sales         2687\n",
       "Product_Type                        16\n",
       "Product_Weight                     416\n",
       "Supermarket _Size                    4\n",
       "Supermarket_Identifier              10\n",
       "Supermarket_Location_Type            3\n",
       "Supermarket_Opening_Year             9\n",
       "Supermarket_Type                     4\n",
       "source                               2\n",
       "dtype: int64"
      ]
     },
     "execution_count": 10,
     "metadata": {},
     "output_type": "execute_result"
    }
   ],
   "source": [
    "\n",
    "# check factor variable levels\n",
    "data.apply(lambda x: len(x.unique()))"
   ]
  },
  {
   "cell_type": "code",
   "execution_count": 11,
   "metadata": {},
   "outputs": [
    {
     "name": "stdout",
     "output_type": "stream",
     "text": [
      "Frequency Table\n",
      "\n",
      "Frequency table for varible Product_Fat_Content\n",
      "Low Fat          5200\n",
      "Normal Fat       3006\n",
      "Ultra Low fat     316\n",
      "Name: Product_Fat_Content, dtype: int64\n",
      "\n",
      "Frequency table for varible Product_Supermarket_Identifier\n",
      "FDT12_CHUKWUDI027    1\n",
      "FDX57_CHUKWUDI018    1\n",
      "FDZ59_CHUKWUDI013    1\n",
      "FDJ48_CHUKWUDI017    1\n",
      "DRI37_CHUKWUDI018    1\n",
      "FDI44_CHUKWUDI027    1\n",
      "FDX59_CHUKWUDI018    1\n",
      "FDQ08_CHUKWUDI046    1\n",
      "FDE44_CHUKWUDI013    1\n",
      "FDT48_CHUKWUDI027    1\n",
      "FDC58_CHUKWUDI035    1\n",
      "NCK07_CHUKWUDI035    1\n",
      "DRI11_CHUKWUDI049    1\n",
      "FDU35_CHUKWUDI010    1\n",
      "NCF54_CHUKWUDI017    1\n",
      "FDM16_CHUKWUDI018    1\n",
      "FDI08_CHUKWUDI017    1\n",
      "FDG17_CHUKWUDI017    1\n",
      "FDR35_CHUKWUDI049    1\n",
      "FDQ26_CHUKWUDI018    1\n",
      "FDV26_CHUKWUDI027    1\n",
      "FDS23_CHUKWUDI019    1\n",
      "FDH52_CHUKWUDI017    1\n",
      "NCX06_CHUKWUDI018    1\n",
      "FDK08_CHUKWUDI049    1\n",
      "FDZ59_CHUKWUDI019    1\n",
      "FDE44_CHUKWUDI035    1\n",
      "FDI44_CHUKWUDI049    1\n",
      "NCK17_CHUKWUDI017    1\n",
      "FDY11_CHUKWUDI046    1\n",
      "                    ..\n",
      "DRQ35_CHUKWUDI035    1\n",
      "FDS48_CHUKWUDI019    1\n",
      "NCP17_CHUKWUDI018    1\n",
      "NCL18_CHUKWUDI046    1\n",
      "DRK49_CHUKWUDI035    1\n",
      "FDX11_CHUKWUDI035    1\n",
      "FDJ10_CHUKWUDI027    1\n",
      "FDM58_CHUKWUDI018    1\n",
      "FDX58_CHUKWUDI010    1\n",
      "NCY18_CHUKWUDI017    1\n",
      "FDE29_CHUKWUDI018    1\n",
      "FDW39_CHUKWUDI035    1\n",
      "FDX37_CHUKWUDI035    1\n",
      "FDX16_CHUKWUDI018    1\n",
      "NCQ17_CHUKWUDI017    1\n",
      "FDN23_CHUKWUDI045    1\n",
      "FDU33_CHUKWUDI019    1\n",
      "NCS54_CHUKWUDI045    1\n",
      "NCN05_CHUKWUDI017    1\n",
      "FDB32_CHUKWUDI019    1\n",
      "DRL37_CHUKWUDI035    1\n",
      "FDB16_CHUKWUDI046    1\n",
      "FDP56_CHUKWUDI018    1\n",
      "FDZ23_CHUKWUDI010    1\n",
      "FDK22_CHUKWUDI035    1\n",
      "NCN29_CHUKWUDI045    1\n",
      "FDZ43_CHUKWUDI013    1\n",
      "FDK45_CHUKWUDI045    1\n",
      "FDM39_CHUKWUDI010    1\n",
      "FDM01_CHUKWUDI027    1\n",
      "Name: Product_Supermarket_Identifier, Length: 8522, dtype: int64\n",
      "\n",
      "Frequency table for varible Product_Type\n",
      "Fruits and Vegetables    1232\n",
      "Snack Foods              1200\n",
      "Household                 909\n",
      "Frozen Foods              856\n",
      "Dairy                     682\n",
      "Canned                    649\n",
      "Baking Goods              648\n",
      "Health and Hygiene        520\n",
      "Soft Drinks               445\n",
      "Meat                      425\n",
      "Breads                    251\n",
      "Hard Drinks               214\n",
      "Others                    169\n",
      "Starchy Foods             148\n",
      "Breakfast                 110\n",
      "Seafood                    64\n",
      "Name: Product_Type, dtype: int64\n",
      "\n",
      "Frequency table for varible Supermarket _Size\n",
      "Medium    2793\n",
      "NaN       2409\n",
      "Small     2388\n",
      "High       932\n",
      "Name: Supermarket _Size, dtype: int64\n",
      "\n",
      "Frequency table for varible Supermarket_Location_Type\n",
      "Cluster 3    3349\n",
      "Cluster 2    2785\n",
      "Cluster 1    2388\n",
      "Name: Supermarket_Location_Type, dtype: int64\n",
      "\n",
      "Frequency table for varible Supermarket_Type\n",
      "Supermarket Type1    5577\n",
      "Grocery Store        1082\n",
      "Supermarket Type3     935\n",
      "Supermarket Type2     928\n",
      "Name: Supermarket_Type, dtype: int64\n"
     ]
    }
   ],
   "source": [
    "# Filter categorical variables\n",
    "categorical_columns = [x for x in data.columns if data.dtypes[x] == 'object']\n",
    "\n",
    "# Exclude ID cols and source:\n",
    "categorical_columns = [x for x in categorical_columns if x not in ['Product_Identifier','Supermarket_Identifier','source']]\n",
    "\n",
    "# Frequency table \n",
    "print(\"Frequency Table\")\n",
    "for col in categorical_columns:\n",
    "    print('\\nFrequency table for varible %s' % col)\n",
    "    print(data[col].value_counts(sort=True, dropna=False))"
   ]
  },
  {
   "cell_type": "code",
   "execution_count": 12,
   "metadata": {},
   "outputs": [
    {
     "data": {
      "text/plain": [
       "Low Fat          5200\n",
       "Normal Fat       3006\n",
       "Ultra Low fat     316\n",
       "Name: Product_Fat_Content, dtype: int64"
      ]
     },
     "execution_count": 12,
     "metadata": {},
     "output_type": "execute_result"
    }
   ],
   "source": [
    "# low fat, Lf = Low Fat\n",
    "# reg = Ragular \n",
    "data['Product_Fat_Content'].replace({'LF': 'Low Fat', \n",
    "                                  'low fat': 'Low Fat'}, inplace=True)\n",
    "data[\"Product_Fat_Content\"].value_counts(sort=True, dropna=False)"
   ]
  },
  {
   "cell_type": "code",
   "execution_count": 13,
   "metadata": {
    "collapsed": true
   },
   "outputs": [],
   "source": [
    "import seaborn as sns\n",
    "%matplotlib inline \n",
    "import matplotlib.pyplot as plt"
   ]
  },
  {
   "cell_type": "code",
   "execution_count": 14,
   "metadata": {},
   "outputs": [
    {
     "data": {
      "image/png": "[encoded data removed]",
      "text/plain": [
       "<matplotlib.figure.Figure at 0xd199c0ccf8>"
      ]
     },
     "metadata": {},
     "output_type": "display_data"
    }
   ],
   "source": [
    "sns.countplot(x=\"Product_Fat_Content\", hue=\"Supermarket_Type\", data=data);"
   ]
  },
  {
   "cell_type": "code",
   "execution_count": 15,
   "metadata": {},
   "outputs": [
    {
     "data": {
      "image/png": "[encoded data removed]",
      "text/plain": [
       "<matplotlib.figure.Figure at 0xd199e3d748>"
      ]
     },
     "metadata": {},
     "output_type": "display_data"
    }
   ],
   "source": [
    "\n",
    "sns.countplot(x=\"Product_Fat_Content\",  hue=\"Product_Type\", data=data);"
   ]
  },
  {
   "cell_type": "code",
   "execution_count": 16,
   "metadata": {},
   "outputs": [
    {
     "data": {
      "text/plain": [
       "<matplotlib.axes._subplots.AxesSubplot at 0xd19c08abe0>"
      ]
     },
     "execution_count": 16,
     "metadata": {},
     "output_type": "execute_result"
    },
    {
     "data": {
      "image/png": "[encoded data removed]",
      "text/plain": [
       "<matplotlib.figure.Figure at 0xd199e44438>"
      ]
     },
     "metadata": {},
     "output_type": "display_data"
    }
   ],
   "source": [
    "data['Product_Price'].hist()"
   ]
  },
  {
   "cell_type": "code",
   "execution_count": 17,
   "metadata": {},
   "outputs": [
    {
     "name": "stdout",
     "output_type": "stream",
     "text": [
      "'None' - treated...\n",
      "'mean' - treated...\n",
      "Features with missing values:  Product_Supermarket_Sales    3532\n",
      "dtype: int64\n"
     ]
    }
   ],
   "source": [
    "# Using data description, fill these missing values with \"None\"\n",
    "\n",
    "data['Supermarket _Size'] = data['Supermarket _Size'].fillna('None')\n",
    "print(\"'None' - treated...\")\n",
    "\n",
    "# Fill these features with their mean, the mean value. \n",
    "data['Product_Weight'] = data['Product_Weight'].fillna((data['Product_Weight'].mean()))\n",
    "print(\"'mean' - treated...\")\n",
    "\n",
    "data_na = data.isnull().sum()\n",
    "print(\"Features with missing values: \", data_na.drop(data_na[data_na == 0].index))"
   ]
  },
  {
   "cell_type": "code",
   "execution_count": 18,
   "metadata": {},
   "outputs": [
    {
     "data": {
      "text/plain": [
       "Supermarket_Type\n",
       "Grocery Store          826.633867\n",
       "Supermarket Type1     6442.040623\n",
       "Supermarket Type2     5540.621680\n",
       "Supermarket Type3    12561.189697\n",
       "Name: Product_Supermarket_Sales, dtype: float64"
      ]
     },
     "execution_count": 18,
     "metadata": {},
     "output_type": "execute_result"
    }
   ],
   "source": [
    "# data.pivot_table(values='Item_Outlet_Sales', index='Outlet_Type')\n",
    "data.groupby('Supermarket_Type').Product_Supermarket_Sales.mean()"
   ]
  },
  {
   "cell_type": "code",
   "execution_count": 19,
   "metadata": {},
   "outputs": [
    {
     "name": "stdout",
     "output_type": "stream",
     "text": [
      "Number of 0 values initially: 526\n",
      "Number of 0 values after modification: 0\n"
     ]
    }
   ],
   "source": [
    "# determine average visibility of a product\n",
    "# data.pivot_table(values='Item_Visibility', index='Item_Identifier')\n",
    "visibility_avg = data.groupby('Product_Identifier').Product_Shelf_Visibility.mean()\n",
    "\n",
    "# impute 0 values with mean visibility of that product\n",
    "miss_idx = (data['Product_Shelf_Visibility'] == 0)\n",
    "\n",
    "print('Number of 0 values initially: %d' % sum(miss_idx))\n",
    "data.loc[miss_idx, 'Product_Shelf_Visibility'] = data.loc[miss_idx, 'Product_Identifier'].apply(lambda x: visibility_avg[x])\n",
    "print('Number of 0 values after modification: %d' % sum(data['Product_Shelf_Visibility'] == 0))"
   ]
  },
  {
   "cell_type": "code",
   "execution_count": 20,
   "metadata": {},
   "outputs": [
    {
     "name": "stdout",
     "output_type": "stream",
     "text": [
      "count    8522.000000\n",
      "mean        1.061723\n",
      "std         0.237092\n",
      "min         0.678833\n",
      "25%         0.903575\n",
      "50%         1.000000\n",
      "75%         1.055709\n",
      "max         2.729420\n",
      "Name: Product_Visibility_MeanRatio, dtype: float64\n"
     ]
    }
   ],
   "source": [
    "# Determine another variable with means ratio\n",
    "data['Product_Visibility_MeanRatio'] = data.apply(lambda x: x['Product_Shelf_Visibility']/visibility_avg[x['Product_Identifier']], axis=1)\n",
    "print(data['Product_Visibility_MeanRatio'].describe())"
   ]
  },
  {
   "cell_type": "code",
   "execution_count": 21,
   "metadata": {},
   "outputs": [
    {
     "data": {
      "text/plain": [
       "Food              6125\n",
       "Non-Consumable    1598\n",
       "Drinks             799\n",
       "Name: Product_Type_Combined, dtype: int64"
      ]
     },
     "execution_count": 21,
     "metadata": {},
     "output_type": "execute_result"
    }
   ],
   "source": [
    "# get the first two characters of ID\n",
    "data['Product_Type_Combined'] = data['Product_Identifier'].apply(lambda x: x[0:2])\n",
    "\n",
    "# rename them to more intuitive categories\n",
    "data['Product_Type_Combined'] = data['Product_Type_Combined'].map({'FD':'Food',\n",
    "                                                             'NC':'Non-Consumable',\n",
    "                                                             'DR':'Drinks'})\n",
    "data['Product_Type_Combined'].value_counts()"
   ]
  },
  {
   "cell_type": "code",
   "execution_count": 22,
   "metadata": {
    "collapsed": true
   },
   "outputs": [],
   "source": [
    "# get idx of train part\n",
    "train_idx = (data['source'] == 'train')\n",
    "\n",
    "# subset the data\n",
    "sub_data = data.loc[train_idx, ['Product_Identifier', 'Product_Supermarket_Sales']]\n",
    "\n",
    "# get avg. item sales by item_Identifier\n",
    "item_avg_sales = sub_data.groupby(\"Product_Identifier\").Product_Supermarket_Sales.mean()\n",
    "\n",
    "# extract the avg. sale percentile to group them into four categories\n",
    "percentile = np.percentile(item_avg_sales, np.arange(0, 100, 25))\n",
    "twentyfive = percentile[1]\n",
    "fifty = percentile[2]\n",
    "seventyfive = percentile[3]\n",
    "\n",
    "# extract the Item_Identifier idx that fall between those percentiles\n",
    "first_idx = item_avg_sales.apply(lambda x: x < twentyfive)\n",
    "second_idx = item_avg_sales.apply(lambda x: x >= twentyfive and x < fifty)\n",
    "third_idx = item_avg_sales.apply(lambda x: x >= fifty and x < seventyfive)\n",
    "fourth_idx = item_avg_sales.apply(lambda x: x > seventyfive)\n",
    "\n",
    "# extract the Item_Identifier names for each percentiles\n",
    "first = item_avg_sales.loc[first_idx, ].index.values\n",
    "second = item_avg_sales.loc[second_idx, ].index.values\n",
    "thrid = item_avg_sales.loc[third_idx, ].index.values\n",
    "fourth = item_avg_sales.loc[fourth_idx, ].index.values\n",
    "\n",
    "# function to categorize each row\n",
    "def id_to_percentile(x):\n",
    "    if x in first:\n",
    "        return('first')\n",
    "    elif x in second:\n",
    "        return('second')\n",
    "    elif x in thrid:\n",
    "        return('thrid')\n",
    "    elif x in fourth:\n",
    "        return('fourth')\n",
    "\n",
    "data['Percentile'] = data['Product_Identifier'].apply(lambda x: id_to_percentile(x))"
   ]
  },
  {
   "cell_type": "code",
   "execution_count": 23,
   "metadata": {},
   "outputs": [
    {
     "data": {
      "text/plain": [
       "first     2058\n",
       "thrid     2048\n",
       "second    1994\n",
       "fourth    1947\n",
       "Name: Percentile, dtype: int64"
      ]
     },
     "execution_count": 23,
     "metadata": {},
     "output_type": "execute_result"
    }
   ],
   "source": [
    "data['Percentile'].value_counts()"
   ]
  },
  {
   "cell_type": "code",
   "execution_count": 24,
   "metadata": {},
   "outputs": [
    {
     "data": {
      "text/plain": [
       "count    8522.000000\n",
       "mean        8.168153\n",
       "std         8.372251\n",
       "min        -3.000000\n",
       "25%         2.000000\n",
       "50%         7.000000\n",
       "75%        19.000000\n",
       "max        21.000000\n",
       "Name: Outlet_Years, dtype: float64"
      ]
     },
     "execution_count": 24,
     "metadata": {},
     "output_type": "execute_result"
    }
   ],
   "source": [
    "# Years, since the data is collected in 2013, we use 2013 as a starting year\n",
    "data['Outlet_Years'] = 2013 - data['Supermarket_Opening_Year']\n",
    "data['Outlet_Years'].describe()"
   ]
  },
  {
   "cell_type": "code",
   "execution_count": 25,
   "metadata": {},
   "outputs": [
    {
     "data": {
      "text/plain": [
       "array(['Product_Fat_Content', 'Product_Identifier',\n",
       "       'Product_Supermarket_Identifier', 'Product_Type',\n",
       "       'Supermarket _Size', 'Supermarket_Identifier',\n",
       "       'Supermarket_Location_Type', 'Supermarket_Type', 'source',\n",
       "       'Product_Type_Combined', 'Percentile'], dtype=object)"
      ]
     },
     "execution_count": 25,
     "metadata": {},
     "output_type": "execute_result"
    }
   ],
   "source": [
    "np.array(data.select_dtypes(include=[\"object_\"]).columns)"
   ]
  },
  {
   "cell_type": "code",
   "execution_count": 26,
   "metadata": {},
   "outputs": [
    {
     "data": {
      "text/html": [
       "<div>\n",
       "<style scoped>\n",
       "    .dataframe tbody tr th:only-of-type {\n",
       "        vertical-align: middle;\n",
       "    }\n",
       "\n",
       "    .dataframe tbody tr th {\n",
       "        vertical-align: top;\n",
       "    }\n",
       "\n",
       "    .dataframe thead th {\n",
       "        text-align: right;\n",
       "    }\n",
       "</style>\n",
       "<table border=\"1\" class=\"dataframe\">\n",
       "  <thead>\n",
       "    <tr style=\"text-align: right;\">\n",
       "      <th></th>\n",
       "      <th>Product_Fat_Content</th>\n",
       "      <th>Product_Identifier</th>\n",
       "      <th>Product_Price</th>\n",
       "      <th>Product_Shelf_Visibility</th>\n",
       "      <th>Product_Supermarket_Identifier</th>\n",
       "      <th>Product_Supermarket_Sales</th>\n",
       "      <th>Product_Type</th>\n",
       "      <th>Product_Weight</th>\n",
       "      <th>Supermarket _Size</th>\n",
       "      <th>Supermarket_Identifier</th>\n",
       "      <th>Supermarket_Location_Type</th>\n",
       "      <th>Supermarket_Opening_Year</th>\n",
       "      <th>Supermarket_Type</th>\n",
       "      <th>source</th>\n",
       "      <th>Product_Visibility_MeanRatio</th>\n",
       "      <th>Product_Type_Combined</th>\n",
       "      <th>Percentile</th>\n",
       "      <th>Outlet_Years</th>\n",
       "    </tr>\n",
       "  </thead>\n",
       "  <tbody>\n",
       "    <tr>\n",
       "      <th>0</th>\n",
       "      <td>Low Fat</td>\n",
       "      <td>DRA12</td>\n",
       "      <td>357.54</td>\n",
       "      <td>0.068535</td>\n",
       "      <td>DRA12_CHUKWUDI010</td>\n",
       "      <td>709.08</td>\n",
       "      <td>Soft Drinks</td>\n",
       "      <td>11.6</td>\n",
       "      <td>None</td>\n",
       "      <td>CHUKWUDI010</td>\n",
       "      <td>Cluster 3</td>\n",
       "      <td>2005</td>\n",
       "      <td>Grocery Store</td>\n",
       "      <td>train</td>\n",
       "      <td>2.144657</td>\n",
       "      <td>Drinks</td>\n",
       "      <td>second</td>\n",
       "      <td>8</td>\n",
       "    </tr>\n",
       "    <tr>\n",
       "      <th>1</th>\n",
       "      <td>Low Fat</td>\n",
       "      <td>DRA12</td>\n",
       "      <td>355.79</td>\n",
       "      <td>0.040912</td>\n",
       "      <td>DRA12_CHUKWUDI013</td>\n",
       "      <td>6381.69</td>\n",
       "      <td>Soft Drinks</td>\n",
       "      <td>11.6</td>\n",
       "      <td>High</td>\n",
       "      <td>CHUKWUDI013</td>\n",
       "      <td>Cluster 3</td>\n",
       "      <td>1994</td>\n",
       "      <td>Supermarket Type1</td>\n",
       "      <td>train</td>\n",
       "      <td>1.280248</td>\n",
       "      <td>Drinks</td>\n",
       "      <td>second</td>\n",
       "      <td>19</td>\n",
       "    </tr>\n",
       "    <tr>\n",
       "      <th>2</th>\n",
       "      <td>Low Fat</td>\n",
       "      <td>DRA12</td>\n",
       "      <td>350.79</td>\n",
       "      <td>0.041178</td>\n",
       "      <td>DRA12_CHUKWUDI017</td>\n",
       "      <td>6381.69</td>\n",
       "      <td>Soft Drinks</td>\n",
       "      <td>11.6</td>\n",
       "      <td>None</td>\n",
       "      <td>CHUKWUDI017</td>\n",
       "      <td>Cluster 2</td>\n",
       "      <td>2014</td>\n",
       "      <td>Supermarket Type1</td>\n",
       "      <td>train</td>\n",
       "      <td>1.288562</td>\n",
       "      <td>Drinks</td>\n",
       "      <td>second</td>\n",
       "      <td>-1</td>\n",
       "    </tr>\n",
       "    <tr>\n",
       "      <th>3</th>\n",
       "      <td>Low Fat</td>\n",
       "      <td>DRA12</td>\n",
       "      <td>355.04</td>\n",
       "      <td>0.041113</td>\n",
       "      <td>DRA12_CHUKWUDI018</td>\n",
       "      <td>2127.23</td>\n",
       "      <td>Soft Drinks</td>\n",
       "      <td>11.6</td>\n",
       "      <td>Medium</td>\n",
       "      <td>CHUKWUDI018</td>\n",
       "      <td>Cluster 3</td>\n",
       "      <td>2016</td>\n",
       "      <td>Supermarket Type2</td>\n",
       "      <td>train</td>\n",
       "      <td>1.286534</td>\n",
       "      <td>Drinks</td>\n",
       "      <td>second</td>\n",
       "      <td>-3</td>\n",
       "    </tr>\n",
       "    <tr>\n",
       "      <th>4</th>\n",
       "      <td>Ultra Low fat</td>\n",
       "      <td>DRA12</td>\n",
       "      <td>354.79</td>\n",
       "      <td>0.031956</td>\n",
       "      <td>DRA12_CHUKWUDI035</td>\n",
       "      <td>2481.77</td>\n",
       "      <td>Soft Drinks</td>\n",
       "      <td>11.6</td>\n",
       "      <td>Small</td>\n",
       "      <td>CHUKWUDI035</td>\n",
       "      <td>Cluster 2</td>\n",
       "      <td>2011</td>\n",
       "      <td>Supermarket Type1</td>\n",
       "      <td>train</td>\n",
       "      <td>1.000000</td>\n",
       "      <td>Drinks</td>\n",
       "      <td>second</td>\n",
       "      <td>2</td>\n",
       "    </tr>\n",
       "  </tbody>\n",
       "</table>\n",
       "</div>"
      ],
      "text/plain": [
       "  Product_Fat_Content Product_Identifier  Product_Price  \\\n",
       "0             Low Fat              DRA12         357.54   \n",
       "1             Low Fat              DRA12         355.79   \n",
       "2             Low Fat              DRA12         350.79   \n",
       "3             Low Fat              DRA12         355.04   \n",
       "4       Ultra Low fat              DRA12         354.79   \n",
       "\n",
       "   Product_Shelf_Visibility Product_Supermarket_Identifier  \\\n",
       "0                  0.068535              DRA12_CHUKWUDI010   \n",
       "1                  0.040912              DRA12_CHUKWUDI013   \n",
       "2                  0.041178              DRA12_CHUKWUDI017   \n",
       "3                  0.041113              DRA12_CHUKWUDI018   \n",
       "4                  0.031956              DRA12_CHUKWUDI035   \n",
       "\n",
       "   Product_Supermarket_Sales Product_Type  Product_Weight Supermarket _Size  \\\n",
       "0                     709.08  Soft Drinks            11.6              None   \n",
       "1                    6381.69  Soft Drinks            11.6              High   \n",
       "2                    6381.69  Soft Drinks            11.6              None   \n",
       "3                    2127.23  Soft Drinks            11.6            Medium   \n",
       "4                    2481.77  Soft Drinks            11.6             Small   \n",
       "\n",
       "  Supermarket_Identifier Supermarket_Location_Type  Supermarket_Opening_Year  \\\n",
       "0            CHUKWUDI010                 Cluster 3                      2005   \n",
       "1            CHUKWUDI013                 Cluster 3                      1994   \n",
       "2            CHUKWUDI017                 Cluster 2                      2014   \n",
       "3            CHUKWUDI018                 Cluster 3                      2016   \n",
       "4            CHUKWUDI035                 Cluster 2                      2011   \n",
       "\n",
       "    Supermarket_Type source  Product_Visibility_MeanRatio  \\\n",
       "0      Grocery Store  train                      2.144657   \n",
       "1  Supermarket Type1  train                      1.280248   \n",
       "2  Supermarket Type1  train                      1.288562   \n",
       "3  Supermarket Type2  train                      1.286534   \n",
       "4  Supermarket Type1  train                      1.000000   \n",
       "\n",
       "  Product_Type_Combined Percentile  Outlet_Years  \n",
       "0                Drinks     second             8  \n",
       "1                Drinks     second            19  \n",
       "2                Drinks     second            -1  \n",
       "3                Drinks     second            -3  \n",
       "4                Drinks     second             2  "
      ]
     },
     "execution_count": 26,
     "metadata": {},
     "output_type": "execute_result"
    }
   ],
   "source": [
    "data.head()"
   ]
  },
  {
   "cell_type": "code",
   "execution_count": 27,
   "metadata": {},
   "outputs": [],
   "source": [
    "from sklearn.preprocessing import LabelEncoder\n",
    "le = LabelEncoder()\n",
    "\n",
    "# New variable for outlet\n",
    "data['Outlet'] = le.fit_transform(data['Supermarket_Identifier'])\n",
    "#var_mod = ['Product_Fat_Content', 'Supermarket _Size', 'Supermarket_Location_Type', 'Supermarket_Type', 'Product_Type_Combined', 'Percentile']\n",
    "le = LabelEncoder()\n",
    "data['Product_Fat_Content'] = le.fit_transform(data['Product_Fat_Content'])\n",
    "data['Supermarket _Size'] = le.fit_transform(data['Supermarket _Size'])\n",
    "data['Supermarket_Location_Type'] = le.fit_transform(data['Supermarket_Location_Type'])\n",
    "data['Supermarket_Type'] = le.fit_transform(data['Supermarket_Type'])\n",
    "data['Product_Type_Combined'] = le.fit_transform(data['Product_Type_Combined'])\n"
   ]
  },
  {
   "cell_type": "code",
   "execution_count": 28,
   "metadata": {},
   "outputs": [],
   "source": [
    "#data['Percentile'] = le.fit_transform(data['Percentile'])"
   ]
  },
  {
   "cell_type": "code",
   "execution_count": 29,
   "metadata": {},
   "outputs": [
    {
     "data": {
      "text/html": [
       "<div>\n",
       "<style scoped>\n",
       "    .dataframe tbody tr th:only-of-type {\n",
       "        vertical-align: middle;\n",
       "    }\n",
       "\n",
       "    .dataframe tbody tr th {\n",
       "        vertical-align: top;\n",
       "    }\n",
       "\n",
       "    .dataframe thead th {\n",
       "        text-align: right;\n",
       "    }\n",
       "</style>\n",
       "<table border=\"1\" class=\"dataframe\">\n",
       "  <thead>\n",
       "    <tr style=\"text-align: right;\">\n",
       "      <th></th>\n",
       "      <th>Product_Fat_Content</th>\n",
       "      <th>Product_Identifier</th>\n",
       "      <th>Product_Price</th>\n",
       "      <th>Product_Shelf_Visibility</th>\n",
       "      <th>Product_Supermarket_Identifier</th>\n",
       "      <th>Product_Supermarket_Sales</th>\n",
       "      <th>Product_Type</th>\n",
       "      <th>Product_Weight</th>\n",
       "      <th>Supermarket _Size</th>\n",
       "      <th>Supermarket_Identifier</th>\n",
       "      <th>Supermarket_Location_Type</th>\n",
       "      <th>Supermarket_Opening_Year</th>\n",
       "      <th>Supermarket_Type</th>\n",
       "      <th>source</th>\n",
       "      <th>Product_Visibility_MeanRatio</th>\n",
       "      <th>Product_Type_Combined</th>\n",
       "      <th>Percentile</th>\n",
       "      <th>Outlet_Years</th>\n",
       "      <th>Outlet</th>\n",
       "    </tr>\n",
       "  </thead>\n",
       "  <tbody>\n",
       "    <tr>\n",
       "      <th>0</th>\n",
       "      <td>0</td>\n",
       "      <td>DRA12</td>\n",
       "      <td>357.54</td>\n",
       "      <td>0.068535</td>\n",
       "      <td>DRA12_CHUKWUDI010</td>\n",
       "      <td>709.08</td>\n",
       "      <td>Soft Drinks</td>\n",
       "      <td>11.6</td>\n",
       "      <td>2</td>\n",
       "      <td>CHUKWUDI010</td>\n",
       "      <td>2</td>\n",
       "      <td>2005</td>\n",
       "      <td>0</td>\n",
       "      <td>train</td>\n",
       "      <td>2.144657</td>\n",
       "      <td>0</td>\n",
       "      <td>second</td>\n",
       "      <td>8</td>\n",
       "      <td>0</td>\n",
       "    </tr>\n",
       "    <tr>\n",
       "      <th>1</th>\n",
       "      <td>0</td>\n",
       "      <td>DRA12</td>\n",
       "      <td>355.79</td>\n",
       "      <td>0.040912</td>\n",
       "      <td>DRA12_CHUKWUDI013</td>\n",
       "      <td>6381.69</td>\n",
       "      <td>Soft Drinks</td>\n",
       "      <td>11.6</td>\n",
       "      <td>0</td>\n",
       "      <td>CHUKWUDI013</td>\n",
       "      <td>2</td>\n",
       "      <td>1994</td>\n",
       "      <td>1</td>\n",
       "      <td>train</td>\n",
       "      <td>1.280248</td>\n",
       "      <td>0</td>\n",
       "      <td>second</td>\n",
       "      <td>19</td>\n",
       "      <td>1</td>\n",
       "    </tr>\n",
       "    <tr>\n",
       "      <th>2</th>\n",
       "      <td>0</td>\n",
       "      <td>DRA12</td>\n",
       "      <td>350.79</td>\n",
       "      <td>0.041178</td>\n",
       "      <td>DRA12_CHUKWUDI017</td>\n",
       "      <td>6381.69</td>\n",
       "      <td>Soft Drinks</td>\n",
       "      <td>11.6</td>\n",
       "      <td>2</td>\n",
       "      <td>CHUKWUDI017</td>\n",
       "      <td>1</td>\n",
       "      <td>2014</td>\n",
       "      <td>1</td>\n",
       "      <td>train</td>\n",
       "      <td>1.288562</td>\n",
       "      <td>0</td>\n",
       "      <td>second</td>\n",
       "      <td>-1</td>\n",
       "      <td>2</td>\n",
       "    </tr>\n",
       "    <tr>\n",
       "      <th>3</th>\n",
       "      <td>0</td>\n",
       "      <td>DRA12</td>\n",
       "      <td>355.04</td>\n",
       "      <td>0.041113</td>\n",
       "      <td>DRA12_CHUKWUDI018</td>\n",
       "      <td>2127.23</td>\n",
       "      <td>Soft Drinks</td>\n",
       "      <td>11.6</td>\n",
       "      <td>1</td>\n",
       "      <td>CHUKWUDI018</td>\n",
       "      <td>2</td>\n",
       "      <td>2016</td>\n",
       "      <td>2</td>\n",
       "      <td>train</td>\n",
       "      <td>1.286534</td>\n",
       "      <td>0</td>\n",
       "      <td>second</td>\n",
       "      <td>-3</td>\n",
       "      <td>3</td>\n",
       "    </tr>\n",
       "    <tr>\n",
       "      <th>4</th>\n",
       "      <td>2</td>\n",
       "      <td>DRA12</td>\n",
       "      <td>354.79</td>\n",
       "      <td>0.031956</td>\n",
       "      <td>DRA12_CHUKWUDI035</td>\n",
       "      <td>2481.77</td>\n",
       "      <td>Soft Drinks</td>\n",
       "      <td>11.6</td>\n",
       "      <td>3</td>\n",
       "      <td>CHUKWUDI035</td>\n",
       "      <td>1</td>\n",
       "      <td>2011</td>\n",
       "      <td>1</td>\n",
       "      <td>train</td>\n",
       "      <td>1.000000</td>\n",
       "      <td>0</td>\n",
       "      <td>second</td>\n",
       "      <td>2</td>\n",
       "      <td>6</td>\n",
       "    </tr>\n",
       "  </tbody>\n",
       "</table>\n",
       "</div>"
      ],
      "text/plain": [
       "   Product_Fat_Content Product_Identifier  Product_Price  \\\n",
       "0                    0              DRA12         357.54   \n",
       "1                    0              DRA12         355.79   \n",
       "2                    0              DRA12         350.79   \n",
       "3                    0              DRA12         355.04   \n",
       "4                    2              DRA12         354.79   \n",
       "\n",
       "   Product_Shelf_Visibility Product_Supermarket_Identifier  \\\n",
       "0                  0.068535              DRA12_CHUKWUDI010   \n",
       "1                  0.040912              DRA12_CHUKWUDI013   \n",
       "2                  0.041178              DRA12_CHUKWUDI017   \n",
       "3                  0.041113              DRA12_CHUKWUDI018   \n",
       "4                  0.031956              DRA12_CHUKWUDI035   \n",
       "\n",
       "   Product_Supermarket_Sales Product_Type  Product_Weight  Supermarket _Size  \\\n",
       "0                     709.08  Soft Drinks            11.6                  2   \n",
       "1                    6381.69  Soft Drinks            11.6                  0   \n",
       "2                    6381.69  Soft Drinks            11.6                  2   \n",
       "3                    2127.23  Soft Drinks            11.6                  1   \n",
       "4                    2481.77  Soft Drinks            11.6                  3   \n",
       "\n",
       "  Supermarket_Identifier  Supermarket_Location_Type  Supermarket_Opening_Year  \\\n",
       "0            CHUKWUDI010                          2                      2005   \n",
       "1            CHUKWUDI013                          2                      1994   \n",
       "2            CHUKWUDI017                          1                      2014   \n",
       "3            CHUKWUDI018                          2                      2016   \n",
       "4            CHUKWUDI035                          1                      2011   \n",
       "\n",
       "   Supermarket_Type source  Product_Visibility_MeanRatio  \\\n",
       "0                 0  train                      2.144657   \n",
       "1                 1  train                      1.280248   \n",
       "2                 1  train                      1.288562   \n",
       "3                 2  train                      1.286534   \n",
       "4                 1  train                      1.000000   \n",
       "\n",
       "   Product_Type_Combined Percentile  Outlet_Years  Outlet  \n",
       "0                      0     second             8       0  \n",
       "1                      0     second            19       1  \n",
       "2                      0     second            -1       2  \n",
       "3                      0     second            -3       3  \n",
       "4                      0     second             2       6  "
      ]
     },
     "execution_count": 29,
     "metadata": {},
     "output_type": "execute_result"
    }
   ],
   "source": [
    "data.head()"
   ]
  },
  {
   "cell_type": "code",
   "execution_count": 30,
   "metadata": {
    "collapsed": true
   },
   "outputs": [],
   "source": [
    "# one-hot-encoding\n",
    "data = pd.get_dummies(data, columns=['Product_Fat_Content', 'Supermarket_Location_Type', 'Supermarket _Size', 'Supermarket_Type',\n",
    "                              'Product_Type_Combined', 'Outlet', 'Percentile'])"
   ]
  },
  {
   "cell_type": "code",
   "execution_count": 31,
   "metadata": {},
   "outputs": [
    {
     "data": {
      "text/html": [
       "<div>\n",
       "<style scoped>\n",
       "    .dataframe tbody tr th:only-of-type {\n",
       "        vertical-align: middle;\n",
       "    }\n",
       "\n",
       "    .dataframe tbody tr th {\n",
       "        vertical-align: top;\n",
       "    }\n",
       "\n",
       "    .dataframe thead th {\n",
       "        text-align: right;\n",
       "    }\n",
       "</style>\n",
       "<table border=\"1\" class=\"dataframe\">\n",
       "  <thead>\n",
       "    <tr style=\"text-align: right;\">\n",
       "      <th></th>\n",
       "      <th>Product_Identifier</th>\n",
       "      <th>Product_Price</th>\n",
       "      <th>Product_Shelf_Visibility</th>\n",
       "      <th>Product_Supermarket_Identifier</th>\n",
       "      <th>Product_Supermarket_Sales</th>\n",
       "      <th>Product_Type</th>\n",
       "      <th>Product_Weight</th>\n",
       "      <th>Supermarket_Identifier</th>\n",
       "      <th>Supermarket_Opening_Year</th>\n",
       "      <th>source</th>\n",
       "      <th>...</th>\n",
       "      <th>Outlet_4</th>\n",
       "      <th>Outlet_5</th>\n",
       "      <th>Outlet_6</th>\n",
       "      <th>Outlet_7</th>\n",
       "      <th>Outlet_8</th>\n",
       "      <th>Outlet_9</th>\n",
       "      <th>Percentile_first</th>\n",
       "      <th>Percentile_fourth</th>\n",
       "      <th>Percentile_second</th>\n",
       "      <th>Percentile_thrid</th>\n",
       "    </tr>\n",
       "  </thead>\n",
       "  <tbody>\n",
       "    <tr>\n",
       "      <th>0</th>\n",
       "      <td>DRA12</td>\n",
       "      <td>357.54</td>\n",
       "      <td>0.068535</td>\n",
       "      <td>DRA12_CHUKWUDI010</td>\n",
       "      <td>709.08</td>\n",
       "      <td>Soft Drinks</td>\n",
       "      <td>11.6</td>\n",
       "      <td>CHUKWUDI010</td>\n",
       "      <td>2005</td>\n",
       "      <td>train</td>\n",
       "      <td>...</td>\n",
       "      <td>0</td>\n",
       "      <td>0</td>\n",
       "      <td>0</td>\n",
       "      <td>0</td>\n",
       "      <td>0</td>\n",
       "      <td>0</td>\n",
       "      <td>0</td>\n",
       "      <td>0</td>\n",
       "      <td>1</td>\n",
       "      <td>0</td>\n",
       "    </tr>\n",
       "    <tr>\n",
       "      <th>1</th>\n",
       "      <td>DRA12</td>\n",
       "      <td>355.79</td>\n",
       "      <td>0.040912</td>\n",
       "      <td>DRA12_CHUKWUDI013</td>\n",
       "      <td>6381.69</td>\n",
       "      <td>Soft Drinks</td>\n",
       "      <td>11.6</td>\n",
       "      <td>CHUKWUDI013</td>\n",
       "      <td>1994</td>\n",
       "      <td>train</td>\n",
       "      <td>...</td>\n",
       "      <td>0</td>\n",
       "      <td>0</td>\n",
       "      <td>0</td>\n",
       "      <td>0</td>\n",
       "      <td>0</td>\n",
       "      <td>0</td>\n",
       "      <td>0</td>\n",
       "      <td>0</td>\n",
       "      <td>1</td>\n",
       "      <td>0</td>\n",
       "    </tr>\n",
       "    <tr>\n",
       "      <th>2</th>\n",
       "      <td>DRA12</td>\n",
       "      <td>350.79</td>\n",
       "      <td>0.041178</td>\n",
       "      <td>DRA12_CHUKWUDI017</td>\n",
       "      <td>6381.69</td>\n",
       "      <td>Soft Drinks</td>\n",
       "      <td>11.6</td>\n",
       "      <td>CHUKWUDI017</td>\n",
       "      <td>2014</td>\n",
       "      <td>train</td>\n",
       "      <td>...</td>\n",
       "      <td>0</td>\n",
       "      <td>0</td>\n",
       "      <td>0</td>\n",
       "      <td>0</td>\n",
       "      <td>0</td>\n",
       "      <td>0</td>\n",
       "      <td>0</td>\n",
       "      <td>0</td>\n",
       "      <td>1</td>\n",
       "      <td>0</td>\n",
       "    </tr>\n",
       "    <tr>\n",
       "      <th>3</th>\n",
       "      <td>DRA12</td>\n",
       "      <td>355.04</td>\n",
       "      <td>0.041113</td>\n",
       "      <td>DRA12_CHUKWUDI018</td>\n",
       "      <td>2127.23</td>\n",
       "      <td>Soft Drinks</td>\n",
       "      <td>11.6</td>\n",
       "      <td>CHUKWUDI018</td>\n",
       "      <td>2016</td>\n",
       "      <td>train</td>\n",
       "      <td>...</td>\n",
       "      <td>0</td>\n",
       "      <td>0</td>\n",
       "      <td>0</td>\n",
       "      <td>0</td>\n",
       "      <td>0</td>\n",
       "      <td>0</td>\n",
       "      <td>0</td>\n",
       "      <td>0</td>\n",
       "      <td>1</td>\n",
       "      <td>0</td>\n",
       "    </tr>\n",
       "    <tr>\n",
       "      <th>4</th>\n",
       "      <td>DRA12</td>\n",
       "      <td>354.79</td>\n",
       "      <td>0.031956</td>\n",
       "      <td>DRA12_CHUKWUDI035</td>\n",
       "      <td>2481.77</td>\n",
       "      <td>Soft Drinks</td>\n",
       "      <td>11.6</td>\n",
       "      <td>CHUKWUDI035</td>\n",
       "      <td>2011</td>\n",
       "      <td>train</td>\n",
       "      <td>...</td>\n",
       "      <td>0</td>\n",
       "      <td>0</td>\n",
       "      <td>1</td>\n",
       "      <td>0</td>\n",
       "      <td>0</td>\n",
       "      <td>0</td>\n",
       "      <td>0</td>\n",
       "      <td>0</td>\n",
       "      <td>1</td>\n",
       "      <td>0</td>\n",
       "    </tr>\n",
       "  </tbody>\n",
       "</table>\n",
       "<p>5 rows × 43 columns</p>\n",
       "</div>"
      ],
      "text/plain": [
       "  Product_Identifier  Product_Price  Product_Shelf_Visibility  \\\n",
       "0              DRA12         357.54                  0.068535   \n",
       "1              DRA12         355.79                  0.040912   \n",
       "2              DRA12         350.79                  0.041178   \n",
       "3              DRA12         355.04                  0.041113   \n",
       "4              DRA12         354.79                  0.031956   \n",
       "\n",
       "  Product_Supermarket_Identifier  Product_Supermarket_Sales Product_Type  \\\n",
       "0              DRA12_CHUKWUDI010                     709.08  Soft Drinks   \n",
       "1              DRA12_CHUKWUDI013                    6381.69  Soft Drinks   \n",
       "2              DRA12_CHUKWUDI017                    6381.69  Soft Drinks   \n",
       "3              DRA12_CHUKWUDI018                    2127.23  Soft Drinks   \n",
       "4              DRA12_CHUKWUDI035                    2481.77  Soft Drinks   \n",
       "\n",
       "   Product_Weight Supermarket_Identifier  Supermarket_Opening_Year source  \\\n",
       "0            11.6            CHUKWUDI010                      2005  train   \n",
       "1            11.6            CHUKWUDI013                      1994  train   \n",
       "2            11.6            CHUKWUDI017                      2014  train   \n",
       "3            11.6            CHUKWUDI018                      2016  train   \n",
       "4            11.6            CHUKWUDI035                      2011  train   \n",
       "\n",
       "         ...         Outlet_4  Outlet_5  Outlet_6  Outlet_7  Outlet_8  \\\n",
       "0        ...                0         0         0         0         0   \n",
       "1        ...                0         0         0         0         0   \n",
       "2        ...                0         0         0         0         0   \n",
       "3        ...                0         0         0         0         0   \n",
       "4        ...                0         0         1         0         0   \n",
       "\n",
       "   Outlet_9  Percentile_first  Percentile_fourth  Percentile_second  \\\n",
       "0         0                 0                  0                  1   \n",
       "1         0                 0                  0                  1   \n",
       "2         0                 0                  0                  1   \n",
       "3         0                 0                  0                  1   \n",
       "4         0                 0                  0                  1   \n",
       "\n",
       "   Percentile_thrid  \n",
       "0                 0  \n",
       "1                 0  \n",
       "2                 0  \n",
       "3                 0  \n",
       "4                 0  \n",
       "\n",
       "[5 rows x 43 columns]"
      ]
     },
     "execution_count": 31,
     "metadata": {},
     "output_type": "execute_result"
    }
   ],
   "source": [
    "data.head()"
   ]
  },
  {
   "cell_type": "code",
   "execution_count": 32,
   "metadata": {},
   "outputs": [
    {
     "data": {
      "text/plain": [
       "Product_Identifier                 object\n",
       "Product_Price                     float64\n",
       "Product_Shelf_Visibility          float64\n",
       "Product_Supermarket_Identifier     object\n",
       "Product_Supermarket_Sales         float64\n",
       "Product_Type                       object\n",
       "Product_Weight                    float64\n",
       "Supermarket_Identifier             object\n",
       "Supermarket_Opening_Year            int64\n",
       "source                             object\n",
       "Product_Visibility_MeanRatio      float64\n",
       "Outlet_Years                        int64\n",
       "Product_Fat_Content_0               uint8\n",
       "Product_Fat_Content_1               uint8\n",
       "Product_Fat_Content_2               uint8\n",
       "Supermarket_Location_Type_0         uint8\n",
       "Supermarket_Location_Type_1         uint8\n",
       "Supermarket_Location_Type_2         uint8\n",
       "Supermarket _Size_0                 uint8\n",
       "Supermarket _Size_1                 uint8\n",
       "Supermarket _Size_2                 uint8\n",
       "Supermarket _Size_3                 uint8\n",
       "Supermarket_Type_0                  uint8\n",
       "Supermarket_Type_1                  uint8\n",
       "Supermarket_Type_2                  uint8\n",
       "Supermarket_Type_3                  uint8\n",
       "Product_Type_Combined_0             uint8\n",
       "Product_Type_Combined_1             uint8\n",
       "Product_Type_Combined_2             uint8\n",
       "Outlet_0                            uint8\n",
       "Outlet_1                            uint8\n",
       "Outlet_2                            uint8\n",
       "Outlet_3                            uint8\n",
       "Outlet_4                            uint8\n",
       "Outlet_5                            uint8\n",
       "Outlet_6                            uint8\n",
       "Outlet_7                            uint8\n",
       "Outlet_8                            uint8\n",
       "Outlet_9                            uint8\n",
       "Percentile_first                    uint8\n",
       "Percentile_fourth                   uint8\n",
       "Percentile_second                   uint8\n",
       "Percentile_thrid                    uint8\n",
       "dtype: object"
      ]
     },
     "execution_count": 32,
     "metadata": {},
     "output_type": "execute_result"
    }
   ],
   "source": [
    "data.dtypes"
   ]
  },
  {
   "cell_type": "code",
   "execution_count": 33,
   "metadata": {
    "scrolled": true
   },
   "outputs": [
    {
     "name": "stderr",
     "output_type": "stream",
     "text": [
      "C:\\Users\\Emma\\AppData\\Local\\Enthought\\Canopy\\edm\\envs\\User\\lib\\site-packages\\pandas\\core\\frame.py:3697: SettingWithCopyWarning: \n",
      "A value is trying to be set on a copy of a slice from a DataFrame\n",
      "\n",
      "See the caveats in the documentation: http://pandas.pydata.org/pandas-docs/stable/indexing.html#indexing-view-versus-copy\n",
      "  errors=errors)\n"
     ]
    }
   ],
   "source": [
    "# drop the columns which have been converted to different types\n",
    "data.drop(['Product_Type', 'Supermarket_Opening_Year', 'Product_Identifier', 'Supermarket_Identifier'], axis=1, inplace=True)\n",
    "\n",
    "# divide into test and train\n",
    "train = data.loc[data['source']==\"train\"]\n",
    "test = data.loc[data['source']==\"test\"]\n",
    "\n",
    "# drop unnecessary columns\n",
    "test.drop(['Product_Supermarket_Sales', 'source'], axis=1, inplace=True)\n",
    "train.drop(['source'], axis=1, inplace=True)\n",
    "\n",
    "# export files as modified versions\n",
    "train.to_csv(\"train_modified.csv\", index=False)\n",
    "test.to_csv(\"test_modified.csv\", index=False)"
   ]
  },
  {
   "cell_type": "code",
   "execution_count": 34,
   "metadata": {},
   "outputs": [
    {
     "data": {
      "text/html": [
       "<div>\n",
       "<style scoped>\n",
       "    .dataframe tbody tr th:only-of-type {\n",
       "        vertical-align: middle;\n",
       "    }\n",
       "\n",
       "    .dataframe tbody tr th {\n",
       "        vertical-align: top;\n",
       "    }\n",
       "\n",
       "    .dataframe thead th {\n",
       "        text-align: right;\n",
       "    }\n",
       "</style>\n",
       "<table border=\"1\" class=\"dataframe\">\n",
       "  <thead>\n",
       "    <tr style=\"text-align: right;\">\n",
       "      <th></th>\n",
       "      <th>Product_Price</th>\n",
       "      <th>Product_Shelf_Visibility</th>\n",
       "      <th>Product_Supermarket_Identifier</th>\n",
       "      <th>Product_Supermarket_Sales</th>\n",
       "      <th>Product_Weight</th>\n",
       "      <th>Product_Visibility_MeanRatio</th>\n",
       "      <th>Outlet_Years</th>\n",
       "      <th>Product_Fat_Content_0</th>\n",
       "      <th>Product_Fat_Content_1</th>\n",
       "      <th>Product_Fat_Content_2</th>\n",
       "      <th>...</th>\n",
       "      <th>Outlet_4</th>\n",
       "      <th>Outlet_5</th>\n",
       "      <th>Outlet_6</th>\n",
       "      <th>Outlet_7</th>\n",
       "      <th>Outlet_8</th>\n",
       "      <th>Outlet_9</th>\n",
       "      <th>Percentile_first</th>\n",
       "      <th>Percentile_fourth</th>\n",
       "      <th>Percentile_second</th>\n",
       "      <th>Percentile_thrid</th>\n",
       "    </tr>\n",
       "  </thead>\n",
       "  <tbody>\n",
       "    <tr>\n",
       "      <th>0</th>\n",
       "      <td>357.54</td>\n",
       "      <td>0.068535</td>\n",
       "      <td>DRA12_CHUKWUDI010</td>\n",
       "      <td>709.08</td>\n",
       "      <td>11.6</td>\n",
       "      <td>2.144657</td>\n",
       "      <td>8</td>\n",
       "      <td>1</td>\n",
       "      <td>0</td>\n",
       "      <td>0</td>\n",
       "      <td>...</td>\n",
       "      <td>0</td>\n",
       "      <td>0</td>\n",
       "      <td>0</td>\n",
       "      <td>0</td>\n",
       "      <td>0</td>\n",
       "      <td>0</td>\n",
       "      <td>0</td>\n",
       "      <td>0</td>\n",
       "      <td>1</td>\n",
       "      <td>0</td>\n",
       "    </tr>\n",
       "    <tr>\n",
       "      <th>1</th>\n",
       "      <td>355.79</td>\n",
       "      <td>0.040912</td>\n",
       "      <td>DRA12_CHUKWUDI013</td>\n",
       "      <td>6381.69</td>\n",
       "      <td>11.6</td>\n",
       "      <td>1.280248</td>\n",
       "      <td>19</td>\n",
       "      <td>1</td>\n",
       "      <td>0</td>\n",
       "      <td>0</td>\n",
       "      <td>...</td>\n",
       "      <td>0</td>\n",
       "      <td>0</td>\n",
       "      <td>0</td>\n",
       "      <td>0</td>\n",
       "      <td>0</td>\n",
       "      <td>0</td>\n",
       "      <td>0</td>\n",
       "      <td>0</td>\n",
       "      <td>1</td>\n",
       "      <td>0</td>\n",
       "    </tr>\n",
       "    <tr>\n",
       "      <th>2</th>\n",
       "      <td>350.79</td>\n",
       "      <td>0.041178</td>\n",
       "      <td>DRA12_CHUKWUDI017</td>\n",
       "      <td>6381.69</td>\n",
       "      <td>11.6</td>\n",
       "      <td>1.288562</td>\n",
       "      <td>-1</td>\n",
       "      <td>1</td>\n",
       "      <td>0</td>\n",
       "      <td>0</td>\n",
       "      <td>...</td>\n",
       "      <td>0</td>\n",
       "      <td>0</td>\n",
       "      <td>0</td>\n",
       "      <td>0</td>\n",
       "      <td>0</td>\n",
       "      <td>0</td>\n",
       "      <td>0</td>\n",
       "      <td>0</td>\n",
       "      <td>1</td>\n",
       "      <td>0</td>\n",
       "    </tr>\n",
       "    <tr>\n",
       "      <th>3</th>\n",
       "      <td>355.04</td>\n",
       "      <td>0.041113</td>\n",
       "      <td>DRA12_CHUKWUDI018</td>\n",
       "      <td>2127.23</td>\n",
       "      <td>11.6</td>\n",
       "      <td>1.286534</td>\n",
       "      <td>-3</td>\n",
       "      <td>1</td>\n",
       "      <td>0</td>\n",
       "      <td>0</td>\n",
       "      <td>...</td>\n",
       "      <td>0</td>\n",
       "      <td>0</td>\n",
       "      <td>0</td>\n",
       "      <td>0</td>\n",
       "      <td>0</td>\n",
       "      <td>0</td>\n",
       "      <td>0</td>\n",
       "      <td>0</td>\n",
       "      <td>1</td>\n",
       "      <td>0</td>\n",
       "    </tr>\n",
       "    <tr>\n",
       "      <th>4</th>\n",
       "      <td>354.79</td>\n",
       "      <td>0.031956</td>\n",
       "      <td>DRA12_CHUKWUDI035</td>\n",
       "      <td>2481.77</td>\n",
       "      <td>11.6</td>\n",
       "      <td>1.000000</td>\n",
       "      <td>2</td>\n",
       "      <td>0</td>\n",
       "      <td>0</td>\n",
       "      <td>1</td>\n",
       "      <td>...</td>\n",
       "      <td>0</td>\n",
       "      <td>0</td>\n",
       "      <td>1</td>\n",
       "      <td>0</td>\n",
       "      <td>0</td>\n",
       "      <td>0</td>\n",
       "      <td>0</td>\n",
       "      <td>0</td>\n",
       "      <td>1</td>\n",
       "      <td>0</td>\n",
       "    </tr>\n",
       "  </tbody>\n",
       "</table>\n",
       "<p>5 rows × 38 columns</p>\n",
       "</div>"
      ],
      "text/plain": [
       "   Product_Price  Product_Shelf_Visibility Product_Supermarket_Identifier  \\\n",
       "0         357.54                  0.068535              DRA12_CHUKWUDI010   \n",
       "1         355.79                  0.040912              DRA12_CHUKWUDI013   \n",
       "2         350.79                  0.041178              DRA12_CHUKWUDI017   \n",
       "3         355.04                  0.041113              DRA12_CHUKWUDI018   \n",
       "4         354.79                  0.031956              DRA12_CHUKWUDI035   \n",
       "\n",
       "   Product_Supermarket_Sales  Product_Weight  Product_Visibility_MeanRatio  \\\n",
       "0                     709.08            11.6                      2.144657   \n",
       "1                    6381.69            11.6                      1.280248   \n",
       "2                    6381.69            11.6                      1.288562   \n",
       "3                    2127.23            11.6                      1.286534   \n",
       "4                    2481.77            11.6                      1.000000   \n",
       "\n",
       "   Outlet_Years  Product_Fat_Content_0  Product_Fat_Content_1  \\\n",
       "0             8                      1                      0   \n",
       "1            19                      1                      0   \n",
       "2            -1                      1                      0   \n",
       "3            -3                      1                      0   \n",
       "4             2                      0                      0   \n",
       "\n",
       "   Product_Fat_Content_2        ...         Outlet_4  Outlet_5  Outlet_6  \\\n",
       "0                      0        ...                0         0         0   \n",
       "1                      0        ...                0         0         0   \n",
       "2                      0        ...                0         0         0   \n",
       "3                      0        ...                0         0         0   \n",
       "4                      1        ...                0         0         1   \n",
       "\n",
       "   Outlet_7  Outlet_8  Outlet_9  Percentile_first  Percentile_fourth  \\\n",
       "0         0         0         0                 0                  0   \n",
       "1         0         0         0                 0                  0   \n",
       "2         0         0         0                 0                  0   \n",
       "3         0         0         0                 0                  0   \n",
       "4         0         0         0                 0                  0   \n",
       "\n",
       "   Percentile_second  Percentile_thrid  \n",
       "0                  1                 0  \n",
       "1                  1                 0  \n",
       "2                  1                 0  \n",
       "3                  1                 0  \n",
       "4                  1                 0  \n",
       "\n",
       "[5 rows x 38 columns]"
      ]
     },
     "execution_count": 34,
     "metadata": {},
     "output_type": "execute_result"
    }
   ],
   "source": [
    "train.head()"
   ]
  },
  {
   "cell_type": "code",
   "execution_count": 35,
   "metadata": {
    "collapsed": true
   },
   "outputs": [],
   "source": [
    "# Save the 'Id' column\n",
    "train_ID = train['Product_Supermarket_Identifier']\n",
    "test_ID = test['Product_Supermarket_Identifier']"
   ]
  },
  {
   "cell_type": "code",
   "execution_count": 36,
   "metadata": {
    "collapsed": true
   },
   "outputs": [],
   "source": [
    "# Also save the target value, as we will remove this\n",
    "y_train = train.Product_Supermarket_Sales.values"
   ]
  },
  {
   "cell_type": "code",
   "execution_count": 37,
   "metadata": {},
   "outputs": [
    {
     "data": {
      "text/html": [
       "<div>\n",
       "<style scoped>\n",
       "    .dataframe tbody tr th:only-of-type {\n",
       "        vertical-align: middle;\n",
       "    }\n",
       "\n",
       "    .dataframe tbody tr th {\n",
       "        vertical-align: top;\n",
       "    }\n",
       "\n",
       "    .dataframe thead th {\n",
       "        text-align: right;\n",
       "    }\n",
       "</style>\n",
       "<table border=\"1\" class=\"dataframe\">\n",
       "  <thead>\n",
       "    <tr style=\"text-align: right;\">\n",
       "      <th></th>\n",
       "      <th>Product_Price</th>\n",
       "      <th>Product_Shelf_Visibility</th>\n",
       "      <th>Product_Supermarket_Identifier</th>\n",
       "      <th>Product_Supermarket_Sales</th>\n",
       "      <th>Product_Weight</th>\n",
       "      <th>Product_Visibility_MeanRatio</th>\n",
       "      <th>Outlet_Years</th>\n",
       "      <th>Product_Fat_Content_0</th>\n",
       "      <th>Product_Fat_Content_1</th>\n",
       "      <th>Product_Fat_Content_2</th>\n",
       "      <th>...</th>\n",
       "      <th>Outlet_4</th>\n",
       "      <th>Outlet_5</th>\n",
       "      <th>Outlet_6</th>\n",
       "      <th>Outlet_7</th>\n",
       "      <th>Outlet_8</th>\n",
       "      <th>Outlet_9</th>\n",
       "      <th>Percentile_first</th>\n",
       "      <th>Percentile_fourth</th>\n",
       "      <th>Percentile_second</th>\n",
       "      <th>Percentile_thrid</th>\n",
       "    </tr>\n",
       "  </thead>\n",
       "  <tbody>\n",
       "    <tr>\n",
       "      <th>0</th>\n",
       "      <td>357.54</td>\n",
       "      <td>0.068535</td>\n",
       "      <td>DRA12_CHUKWUDI010</td>\n",
       "      <td>709.08</td>\n",
       "      <td>11.6</td>\n",
       "      <td>2.144657</td>\n",
       "      <td>8</td>\n",
       "      <td>1</td>\n",
       "      <td>0</td>\n",
       "      <td>0</td>\n",
       "      <td>...</td>\n",
       "      <td>0</td>\n",
       "      <td>0</td>\n",
       "      <td>0</td>\n",
       "      <td>0</td>\n",
       "      <td>0</td>\n",
       "      <td>0</td>\n",
       "      <td>0</td>\n",
       "      <td>0</td>\n",
       "      <td>1</td>\n",
       "      <td>0</td>\n",
       "    </tr>\n",
       "    <tr>\n",
       "      <th>1</th>\n",
       "      <td>355.79</td>\n",
       "      <td>0.040912</td>\n",
       "      <td>DRA12_CHUKWUDI013</td>\n",
       "      <td>6381.69</td>\n",
       "      <td>11.6</td>\n",
       "      <td>1.280248</td>\n",
       "      <td>19</td>\n",
       "      <td>1</td>\n",
       "      <td>0</td>\n",
       "      <td>0</td>\n",
       "      <td>...</td>\n",
       "      <td>0</td>\n",
       "      <td>0</td>\n",
       "      <td>0</td>\n",
       "      <td>0</td>\n",
       "      <td>0</td>\n",
       "      <td>0</td>\n",
       "      <td>0</td>\n",
       "      <td>0</td>\n",
       "      <td>1</td>\n",
       "      <td>0</td>\n",
       "    </tr>\n",
       "    <tr>\n",
       "      <th>2</th>\n",
       "      <td>350.79</td>\n",
       "      <td>0.041178</td>\n",
       "      <td>DRA12_CHUKWUDI017</td>\n",
       "      <td>6381.69</td>\n",
       "      <td>11.6</td>\n",
       "      <td>1.288562</td>\n",
       "      <td>-1</td>\n",
       "      <td>1</td>\n",
       "      <td>0</td>\n",
       "      <td>0</td>\n",
       "      <td>...</td>\n",
       "      <td>0</td>\n",
       "      <td>0</td>\n",
       "      <td>0</td>\n",
       "      <td>0</td>\n",
       "      <td>0</td>\n",
       "      <td>0</td>\n",
       "      <td>0</td>\n",
       "      <td>0</td>\n",
       "      <td>1</td>\n",
       "      <td>0</td>\n",
       "    </tr>\n",
       "    <tr>\n",
       "      <th>3</th>\n",
       "      <td>355.04</td>\n",
       "      <td>0.041113</td>\n",
       "      <td>DRA12_CHUKWUDI018</td>\n",
       "      <td>2127.23</td>\n",
       "      <td>11.6</td>\n",
       "      <td>1.286534</td>\n",
       "      <td>-3</td>\n",
       "      <td>1</td>\n",
       "      <td>0</td>\n",
       "      <td>0</td>\n",
       "      <td>...</td>\n",
       "      <td>0</td>\n",
       "      <td>0</td>\n",
       "      <td>0</td>\n",
       "      <td>0</td>\n",
       "      <td>0</td>\n",
       "      <td>0</td>\n",
       "      <td>0</td>\n",
       "      <td>0</td>\n",
       "      <td>1</td>\n",
       "      <td>0</td>\n",
       "    </tr>\n",
       "    <tr>\n",
       "      <th>4</th>\n",
       "      <td>354.79</td>\n",
       "      <td>0.031956</td>\n",
       "      <td>DRA12_CHUKWUDI035</td>\n",
       "      <td>2481.77</td>\n",
       "      <td>11.6</td>\n",
       "      <td>1.000000</td>\n",
       "      <td>2</td>\n",
       "      <td>0</td>\n",
       "      <td>0</td>\n",
       "      <td>1</td>\n",
       "      <td>...</td>\n",
       "      <td>0</td>\n",
       "      <td>0</td>\n",
       "      <td>1</td>\n",
       "      <td>0</td>\n",
       "      <td>0</td>\n",
       "      <td>0</td>\n",
       "      <td>0</td>\n",
       "      <td>0</td>\n",
       "      <td>1</td>\n",
       "      <td>0</td>\n",
       "    </tr>\n",
       "  </tbody>\n",
       "</table>\n",
       "<p>5 rows × 38 columns</p>\n",
       "</div>"
      ],
      "text/plain": [
       "   Product_Price  Product_Shelf_Visibility Product_Supermarket_Identifier  \\\n",
       "0         357.54                  0.068535              DRA12_CHUKWUDI010   \n",
       "1         355.79                  0.040912              DRA12_CHUKWUDI013   \n",
       "2         350.79                  0.041178              DRA12_CHUKWUDI017   \n",
       "3         355.04                  0.041113              DRA12_CHUKWUDI018   \n",
       "4         354.79                  0.031956              DRA12_CHUKWUDI035   \n",
       "\n",
       "   Product_Supermarket_Sales  Product_Weight  Product_Visibility_MeanRatio  \\\n",
       "0                     709.08            11.6                      2.144657   \n",
       "1                    6381.69            11.6                      1.280248   \n",
       "2                    6381.69            11.6                      1.288562   \n",
       "3                    2127.23            11.6                      1.286534   \n",
       "4                    2481.77            11.6                      1.000000   \n",
       "\n",
       "   Outlet_Years  Product_Fat_Content_0  Product_Fat_Content_1  \\\n",
       "0             8                      1                      0   \n",
       "1            19                      1                      0   \n",
       "2            -1                      1                      0   \n",
       "3            -3                      1                      0   \n",
       "4             2                      0                      0   \n",
       "\n",
       "   Product_Fat_Content_2        ...         Outlet_4  Outlet_5  Outlet_6  \\\n",
       "0                      0        ...                0         0         0   \n",
       "1                      0        ...                0         0         0   \n",
       "2                      0        ...                0         0         0   \n",
       "3                      0        ...                0         0         0   \n",
       "4                      1        ...                0         0         1   \n",
       "\n",
       "   Outlet_7  Outlet_8  Outlet_9  Percentile_first  Percentile_fourth  \\\n",
       "0         0         0         0                 0                  0   \n",
       "1         0         0         0                 0                  0   \n",
       "2         0         0         0                 0                  0   \n",
       "3         0         0         0                 0                  0   \n",
       "4         0         0         0                 0                  0   \n",
       "\n",
       "   Percentile_second  Percentile_thrid  \n",
       "0                  1                 0  \n",
       "1                  1                 0  \n",
       "2                  1                 0  \n",
       "3                  1                 0  \n",
       "4                  1                 0  \n",
       "\n",
       "[5 rows x 38 columns]"
      ]
     },
     "execution_count": 37,
     "metadata": {},
     "output_type": "execute_result"
    }
   ],
   "source": [
    "train.head()"
   ]
  },
  {
   "cell_type": "code",
   "execution_count": 38,
   "metadata": {},
   "outputs": [
    {
     "name": "stderr",
     "output_type": "stream",
     "text": [
      "C:\\Users\\Emma\\AppData\\Local\\Enthought\\Canopy\\edm\\envs\\User\\lib\\site-packages\\pandas\\core\\frame.py:3697: SettingWithCopyWarning: \n",
      "A value is trying to be set on a copy of a slice from a DataFrame\n",
      "\n",
      "See the caveats in the documentation: http://pandas.pydata.org/pandas-docs/stable/indexing.html#indexing-view-versus-copy\n",
      "  errors=errors)\n"
     ]
    }
   ],
   "source": [
    "train.drop(['Product_Supermarket_Sales'], axis=1, inplace=True)\n",
    "train.drop(['Product_Supermarket_Identifier'], axis=1, inplace=True)"
   ]
  },
  {
   "cell_type": "code",
   "execution_count": 39,
   "metadata": {},
   "outputs": [
    {
     "data": {
      "text/html": [
       "<div>\n",
       "<style scoped>\n",
       "    .dataframe tbody tr th:only-of-type {\n",
       "        vertical-align: middle;\n",
       "    }\n",
       "\n",
       "    .dataframe tbody tr th {\n",
       "        vertical-align: top;\n",
       "    }\n",
       "\n",
       "    .dataframe thead th {\n",
       "        text-align: right;\n",
       "    }\n",
       "</style>\n",
       "<table border=\"1\" class=\"dataframe\">\n",
       "  <thead>\n",
       "    <tr style=\"text-align: right;\">\n",
       "      <th></th>\n",
       "      <th>Product_Price</th>\n",
       "      <th>Product_Shelf_Visibility</th>\n",
       "      <th>Product_Supermarket_Identifier</th>\n",
       "      <th>Product_Weight</th>\n",
       "      <th>Product_Visibility_MeanRatio</th>\n",
       "      <th>Outlet_Years</th>\n",
       "      <th>Product_Fat_Content_0</th>\n",
       "      <th>Product_Fat_Content_1</th>\n",
       "      <th>Product_Fat_Content_2</th>\n",
       "      <th>Supermarket_Location_Type_0</th>\n",
       "      <th>...</th>\n",
       "      <th>Outlet_4</th>\n",
       "      <th>Outlet_5</th>\n",
       "      <th>Outlet_6</th>\n",
       "      <th>Outlet_7</th>\n",
       "      <th>Outlet_8</th>\n",
       "      <th>Outlet_9</th>\n",
       "      <th>Percentile_first</th>\n",
       "      <th>Percentile_fourth</th>\n",
       "      <th>Percentile_second</th>\n",
       "      <th>Percentile_thrid</th>\n",
       "    </tr>\n",
       "  </thead>\n",
       "  <tbody>\n",
       "    <tr>\n",
       "      <th>4990</th>\n",
       "      <td>459.98</td>\n",
       "      <td>0.214125</td>\n",
       "      <td>DRA59_CHUKWUDI010</td>\n",
       "      <td>8.270</td>\n",
       "      <td>1.589432</td>\n",
       "      <td>8</td>\n",
       "      <td>0</td>\n",
       "      <td>1</td>\n",
       "      <td>0</td>\n",
       "      <td>0</td>\n",
       "      <td>...</td>\n",
       "      <td>0</td>\n",
       "      <td>0</td>\n",
       "      <td>0</td>\n",
       "      <td>0</td>\n",
       "      <td>0</td>\n",
       "      <td>0</td>\n",
       "      <td>0</td>\n",
       "      <td>1</td>\n",
       "      <td>0</td>\n",
       "      <td>0</td>\n",
       "    </tr>\n",
       "    <tr>\n",
       "      <th>4991</th>\n",
       "      <td>464.98</td>\n",
       "      <td>0.127821</td>\n",
       "      <td>DRA59_CHUKWUDI013</td>\n",
       "      <td>8.270</td>\n",
       "      <td>0.948808</td>\n",
       "      <td>19</td>\n",
       "      <td>0</td>\n",
       "      <td>1</td>\n",
       "      <td>0</td>\n",
       "      <td>0</td>\n",
       "      <td>...</td>\n",
       "      <td>0</td>\n",
       "      <td>0</td>\n",
       "      <td>0</td>\n",
       "      <td>0</td>\n",
       "      <td>0</td>\n",
       "      <td>0</td>\n",
       "      <td>0</td>\n",
       "      <td>1</td>\n",
       "      <td>0</td>\n",
       "      <td>0</td>\n",
       "    </tr>\n",
       "    <tr>\n",
       "      <th>4992</th>\n",
       "      <td>477.38</td>\n",
       "      <td>0.082171</td>\n",
       "      <td>DRB01_CHUKWUDI013</td>\n",
       "      <td>7.390</td>\n",
       "      <td>1.000542</td>\n",
       "      <td>19</td>\n",
       "      <td>1</td>\n",
       "      <td>0</td>\n",
       "      <td>0</td>\n",
       "      <td>0</td>\n",
       "      <td>...</td>\n",
       "      <td>0</td>\n",
       "      <td>0</td>\n",
       "      <td>0</td>\n",
       "      <td>0</td>\n",
       "      <td>0</td>\n",
       "      <td>0</td>\n",
       "      <td>1</td>\n",
       "      <td>0</td>\n",
       "      <td>0</td>\n",
       "      <td>0</td>\n",
       "    </tr>\n",
       "    <tr>\n",
       "      <th>4993</th>\n",
       "      <td>472.63</td>\n",
       "      <td>0.011791</td>\n",
       "      <td>DRB13_CHUKWUDI010</td>\n",
       "      <td>6.115</td>\n",
       "      <td>1.473415</td>\n",
       "      <td>8</td>\n",
       "      <td>0</td>\n",
       "      <td>1</td>\n",
       "      <td>0</td>\n",
       "      <td>0</td>\n",
       "      <td>...</td>\n",
       "      <td>0</td>\n",
       "      <td>0</td>\n",
       "      <td>0</td>\n",
       "      <td>0</td>\n",
       "      <td>0</td>\n",
       "      <td>0</td>\n",
       "      <td>0</td>\n",
       "      <td>0</td>\n",
       "      <td>0</td>\n",
       "      <td>1</td>\n",
       "    </tr>\n",
       "    <tr>\n",
       "      <th>4994</th>\n",
       "      <td>473.13</td>\n",
       "      <td>0.007038</td>\n",
       "      <td>DRB13_CHUKWUDI013</td>\n",
       "      <td>6.115</td>\n",
       "      <td>0.879552</td>\n",
       "      <td>19</td>\n",
       "      <td>0</td>\n",
       "      <td>1</td>\n",
       "      <td>0</td>\n",
       "      <td>0</td>\n",
       "      <td>...</td>\n",
       "      <td>0</td>\n",
       "      <td>0</td>\n",
       "      <td>0</td>\n",
       "      <td>0</td>\n",
       "      <td>0</td>\n",
       "      <td>0</td>\n",
       "      <td>0</td>\n",
       "      <td>0</td>\n",
       "      <td>0</td>\n",
       "      <td>1</td>\n",
       "    </tr>\n",
       "  </tbody>\n",
       "</table>\n",
       "<p>5 rows × 37 columns</p>\n",
       "</div>"
      ],
      "text/plain": [
       "      Product_Price  Product_Shelf_Visibility Product_Supermarket_Identifier  \\\n",
       "4990         459.98                  0.214125              DRA59_CHUKWUDI010   \n",
       "4991         464.98                  0.127821              DRA59_CHUKWUDI013   \n",
       "4992         477.38                  0.082171              DRB01_CHUKWUDI013   \n",
       "4993         472.63                  0.011791              DRB13_CHUKWUDI010   \n",
       "4994         473.13                  0.007038              DRB13_CHUKWUDI013   \n",
       "\n",
       "      Product_Weight  Product_Visibility_MeanRatio  Outlet_Years  \\\n",
       "4990           8.270                      1.589432             8   \n",
       "4991           8.270                      0.948808            19   \n",
       "4992           7.390                      1.000542            19   \n",
       "4993           6.115                      1.473415             8   \n",
       "4994           6.115                      0.879552            19   \n",
       "\n",
       "      Product_Fat_Content_0  Product_Fat_Content_1  Product_Fat_Content_2  \\\n",
       "4990                      0                      1                      0   \n",
       "4991                      0                      1                      0   \n",
       "4992                      1                      0                      0   \n",
       "4993                      0                      1                      0   \n",
       "4994                      0                      1                      0   \n",
       "\n",
       "      Supermarket_Location_Type_0        ...         Outlet_4  Outlet_5  \\\n",
       "4990                            0        ...                0         0   \n",
       "4991                            0        ...                0         0   \n",
       "4992                            0        ...                0         0   \n",
       "4993                            0        ...                0         0   \n",
       "4994                            0        ...                0         0   \n",
       "\n",
       "      Outlet_6  Outlet_7  Outlet_8  Outlet_9  Percentile_first  \\\n",
       "4990         0         0         0         0                 0   \n",
       "4991         0         0         0         0                 0   \n",
       "4992         0         0         0         0                 1   \n",
       "4993         0         0         0         0                 0   \n",
       "4994         0         0         0         0                 0   \n",
       "\n",
       "      Percentile_fourth  Percentile_second  Percentile_thrid  \n",
       "4990                  1                  0                 0  \n",
       "4991                  1                  0                 0  \n",
       "4992                  0                  0                 0  \n",
       "4993                  0                  0                 1  \n",
       "4994                  0                  0                 1  \n",
       "\n",
       "[5 rows x 37 columns]"
      ]
     },
     "execution_count": 39,
     "metadata": {},
     "output_type": "execute_result"
    }
   ],
   "source": [
    "test.head()"
   ]
  },
  {
   "cell_type": "code",
   "execution_count": 40,
   "metadata": {},
   "outputs": [
    {
     "name": "stderr",
     "output_type": "stream",
     "text": [
      "C:\\Users\\Emma\\AppData\\Local\\Enthought\\Canopy\\edm\\envs\\User\\lib\\site-packages\\pandas\\core\\frame.py:3697: SettingWithCopyWarning: \n",
      "A value is trying to be set on a copy of a slice from a DataFrame\n",
      "\n",
      "See the caveats in the documentation: http://pandas.pydata.org/pandas-docs/stable/indexing.html#indexing-view-versus-copy\n",
      "  errors=errors)\n"
     ]
    }
   ],
   "source": [
    "test.drop(['Product_Supermarket_Identifier'], axis=1, inplace=True)"
   ]
  },
  {
   "cell_type": "code",
   "execution_count": 41,
   "metadata": {},
   "outputs": [],
   "source": [
    "#from sklearn import preprocessing\n",
    "# Get column names first\n",
    "#names = train.columns\n",
    "# Create the Scaler object\n",
    "#scaler = preprocessing.StandardScaler()\n",
    "# Fit your data on the scaler object\n",
    "#train = scaler.fit_transform(train)\n",
    "#train = pd.DataFrame(train, columns=names)"
   ]
  },
  {
   "cell_type": "code",
   "execution_count": 42,
   "metadata": {
    "collapsed": true
   },
   "outputs": [],
   "source": [
    "#from sklearn import preprocessing\n",
    "# Get column names first\n",
    "#names = test.columns\n",
    "# Create the Scaler object\n",
    "#scaler = preprocessing.StandardScaler()\n",
    "# Fit your data on the scaler object\n",
    "#test = scaler.fit_transform(test)\n",
    "#test = pd.DataFrame(test, columns=names)"
   ]
  },
  {
   "cell_type": "code",
   "execution_count": 43,
   "metadata": {},
   "outputs": [
    {
     "data": {
      "text/html": [
       "<div>\n",
       "<style scoped>\n",
       "    .dataframe tbody tr th:only-of-type {\n",
       "        vertical-align: middle;\n",
       "    }\n",
       "\n",
       "    .dataframe tbody tr th {\n",
       "        vertical-align: top;\n",
       "    }\n",
       "\n",
       "    .dataframe thead th {\n",
       "        text-align: right;\n",
       "    }\n",
       "</style>\n",
       "<table border=\"1\" class=\"dataframe\">\n",
       "  <thead>\n",
       "    <tr style=\"text-align: right;\">\n",
       "      <th></th>\n",
       "      <th>Product_Price</th>\n",
       "      <th>Product_Shelf_Visibility</th>\n",
       "      <th>Product_Weight</th>\n",
       "      <th>Product_Visibility_MeanRatio</th>\n",
       "      <th>Outlet_Years</th>\n",
       "      <th>Product_Fat_Content_0</th>\n",
       "      <th>Product_Fat_Content_1</th>\n",
       "      <th>Product_Fat_Content_2</th>\n",
       "      <th>Supermarket_Location_Type_0</th>\n",
       "      <th>Supermarket_Location_Type_1</th>\n",
       "      <th>...</th>\n",
       "      <th>Outlet_4</th>\n",
       "      <th>Outlet_5</th>\n",
       "      <th>Outlet_6</th>\n",
       "      <th>Outlet_7</th>\n",
       "      <th>Outlet_8</th>\n",
       "      <th>Outlet_9</th>\n",
       "      <th>Percentile_first</th>\n",
       "      <th>Percentile_fourth</th>\n",
       "      <th>Percentile_second</th>\n",
       "      <th>Percentile_thrid</th>\n",
       "    </tr>\n",
       "  </thead>\n",
       "  <tbody>\n",
       "    <tr>\n",
       "      <th>0</th>\n",
       "      <td>357.54</td>\n",
       "      <td>0.068535</td>\n",
       "      <td>11.6</td>\n",
       "      <td>2.144657</td>\n",
       "      <td>8</td>\n",
       "      <td>1</td>\n",
       "      <td>0</td>\n",
       "      <td>0</td>\n",
       "      <td>0</td>\n",
       "      <td>0</td>\n",
       "      <td>...</td>\n",
       "      <td>0</td>\n",
       "      <td>0</td>\n",
       "      <td>0</td>\n",
       "      <td>0</td>\n",
       "      <td>0</td>\n",
       "      <td>0</td>\n",
       "      <td>0</td>\n",
       "      <td>0</td>\n",
       "      <td>1</td>\n",
       "      <td>0</td>\n",
       "    </tr>\n",
       "    <tr>\n",
       "      <th>1</th>\n",
       "      <td>355.79</td>\n",
       "      <td>0.040912</td>\n",
       "      <td>11.6</td>\n",
       "      <td>1.280248</td>\n",
       "      <td>19</td>\n",
       "      <td>1</td>\n",
       "      <td>0</td>\n",
       "      <td>0</td>\n",
       "      <td>0</td>\n",
       "      <td>0</td>\n",
       "      <td>...</td>\n",
       "      <td>0</td>\n",
       "      <td>0</td>\n",
       "      <td>0</td>\n",
       "      <td>0</td>\n",
       "      <td>0</td>\n",
       "      <td>0</td>\n",
       "      <td>0</td>\n",
       "      <td>0</td>\n",
       "      <td>1</td>\n",
       "      <td>0</td>\n",
       "    </tr>\n",
       "    <tr>\n",
       "      <th>2</th>\n",
       "      <td>350.79</td>\n",
       "      <td>0.041178</td>\n",
       "      <td>11.6</td>\n",
       "      <td>1.288562</td>\n",
       "      <td>-1</td>\n",
       "      <td>1</td>\n",
       "      <td>0</td>\n",
       "      <td>0</td>\n",
       "      <td>0</td>\n",
       "      <td>1</td>\n",
       "      <td>...</td>\n",
       "      <td>0</td>\n",
       "      <td>0</td>\n",
       "      <td>0</td>\n",
       "      <td>0</td>\n",
       "      <td>0</td>\n",
       "      <td>0</td>\n",
       "      <td>0</td>\n",
       "      <td>0</td>\n",
       "      <td>1</td>\n",
       "      <td>0</td>\n",
       "    </tr>\n",
       "    <tr>\n",
       "      <th>3</th>\n",
       "      <td>355.04</td>\n",
       "      <td>0.041113</td>\n",
       "      <td>11.6</td>\n",
       "      <td>1.286534</td>\n",
       "      <td>-3</td>\n",
       "      <td>1</td>\n",
       "      <td>0</td>\n",
       "      <td>0</td>\n",
       "      <td>0</td>\n",
       "      <td>0</td>\n",
       "      <td>...</td>\n",
       "      <td>0</td>\n",
       "      <td>0</td>\n",
       "      <td>0</td>\n",
       "      <td>0</td>\n",
       "      <td>0</td>\n",
       "      <td>0</td>\n",
       "      <td>0</td>\n",
       "      <td>0</td>\n",
       "      <td>1</td>\n",
       "      <td>0</td>\n",
       "    </tr>\n",
       "    <tr>\n",
       "      <th>4</th>\n",
       "      <td>354.79</td>\n",
       "      <td>0.031956</td>\n",
       "      <td>11.6</td>\n",
       "      <td>1.000000</td>\n",
       "      <td>2</td>\n",
       "      <td>0</td>\n",
       "      <td>0</td>\n",
       "      <td>1</td>\n",
       "      <td>0</td>\n",
       "      <td>1</td>\n",
       "      <td>...</td>\n",
       "      <td>0</td>\n",
       "      <td>0</td>\n",
       "      <td>1</td>\n",
       "      <td>0</td>\n",
       "      <td>0</td>\n",
       "      <td>0</td>\n",
       "      <td>0</td>\n",
       "      <td>0</td>\n",
       "      <td>1</td>\n",
       "      <td>0</td>\n",
       "    </tr>\n",
       "  </tbody>\n",
       "</table>\n",
       "<p>5 rows × 36 columns</p>\n",
       "</div>"
      ],
      "text/plain": [
       "   Product_Price  Product_Shelf_Visibility  Product_Weight  \\\n",
       "0         357.54                  0.068535            11.6   \n",
       "1         355.79                  0.040912            11.6   \n",
       "2         350.79                  0.041178            11.6   \n",
       "3         355.04                  0.041113            11.6   \n",
       "4         354.79                  0.031956            11.6   \n",
       "\n",
       "   Product_Visibility_MeanRatio  Outlet_Years  Product_Fat_Content_0  \\\n",
       "0                      2.144657             8                      1   \n",
       "1                      1.280248            19                      1   \n",
       "2                      1.288562            -1                      1   \n",
       "3                      1.286534            -3                      1   \n",
       "4                      1.000000             2                      0   \n",
       "\n",
       "   Product_Fat_Content_1  Product_Fat_Content_2  Supermarket_Location_Type_0  \\\n",
       "0                      0                      0                            0   \n",
       "1                      0                      0                            0   \n",
       "2                      0                      0                            0   \n",
       "3                      0                      0                            0   \n",
       "4                      0                      1                            0   \n",
       "\n",
       "   Supermarket_Location_Type_1        ...         Outlet_4  Outlet_5  \\\n",
       "0                            0        ...                0         0   \n",
       "1                            0        ...                0         0   \n",
       "2                            1        ...                0         0   \n",
       "3                            0        ...                0         0   \n",
       "4                            1        ...                0         0   \n",
       "\n",
       "   Outlet_6  Outlet_7  Outlet_8  Outlet_9  Percentile_first  \\\n",
       "0         0         0         0         0                 0   \n",
       "1         0         0         0         0                 0   \n",
       "2         0         0         0         0                 0   \n",
       "3         0         0         0         0                 0   \n",
       "4         1         0         0         0                 0   \n",
       "\n",
       "   Percentile_fourth  Percentile_second  Percentile_thrid  \n",
       "0                  0                  1                 0  \n",
       "1                  0                  1                 0  \n",
       "2                  0                  1                 0  \n",
       "3                  0                  1                 0  \n",
       "4                  0                  1                 0  \n",
       "\n",
       "[5 rows x 36 columns]"
      ]
     },
     "execution_count": 43,
     "metadata": {},
     "output_type": "execute_result"
    }
   ],
   "source": [
    "train.head()"
   ]
  },
  {
   "cell_type": "code",
   "execution_count": 44,
   "metadata": {},
   "outputs": [
    {
     "name": "stdout",
     "output_type": "stream",
     "text": [
      "(4990, 36)\n",
      "(3532, 36)\n"
     ]
    }
   ],
   "source": [
    "print(train.shape)\n",
    "print(test.shape)"
   ]
  },
  {
   "cell_type": "code",
   "execution_count": 45,
   "metadata": {
    "collapsed": true
   },
   "outputs": [],
   "source": [
    "# Imports\n",
    "from sklearn.linear_model import Lasso, ElasticNet\n",
    "from sklearn.kernel_ridge import KernelRidge\n",
    "import xgboost as xgb\n",
    "from sklearn.model_selection import KFold, cross_val_score, GridSearchCV\n",
    "\n",
    "from sklearn.linear_model import ElasticNet, Lasso,  BayesianRidge, LassoLarsIC\n",
    "from sklearn.ensemble import RandomForestRegressor,  GradientBoostingRegressor\n",
    "from sklearn.kernel_ridge import KernelRidge\n",
    "from sklearn.pipeline import make_pipeline\n",
    "from sklearn.preprocessing import RobustScaler\n",
    "from sklearn.base import BaseEstimator, TransformerMixin, RegressorMixin, clone\n",
    "from sklearn.model_selection import KFold, cross_val_score, train_test_split\n",
    "from sklearn.metrics import mean_squared_error\n",
    "import xgboost as xgb\n",
    "import lightgbm as lgb"
   ]
  },
  {
   "cell_type": "code",
   "execution_count": 46,
   "metadata": {
    "collapsed": true
   },
   "outputs": [],
   "source": [
    "lasso = make_pipeline(RobustScaler(), Lasso(alpha =0.5, random_state=1))"
   ]
  },
  {
   "cell_type": "code",
   "execution_count": 47,
   "metadata": {
    "collapsed": true
   },
   "outputs": [],
   "source": [
    "ENet = make_pipeline(RobustScaler(), ElasticNet(alpha=0.5, l1_ratio=.9, random_state=3))"
   ]
  },
  {
   "cell_type": "code",
   "execution_count": 48,
   "metadata": {
    "collapsed": true
   },
   "outputs": [],
   "source": [
    "GBoost = GradientBoostingRegressor(n_estimators=3000, learning_rate=0.05,\n",
    "                                   max_depth=4, max_features='sqrt',\n",
    "                                   min_samples_leaf=15, min_samples_split=10, \n",
    "                                   loss='huber', random_state =5)"
   ]
  },
  {
   "cell_type": "code",
   "execution_count": 49,
   "metadata": {
    "collapsed": true
   },
   "outputs": [],
   "source": [
    "model = xgb.XGBRegressor()"
   ]
  },
  {
   "cell_type": "code",
   "execution_count": 50,
   "metadata": {
    "collapsed": true
   },
   "outputs": [],
   "source": [
    "model_lgb = lgb.LGBMRegressor(objective='regression',num_leaves=5,\n",
    "                              learning_rate=0.05, n_estimators=720,\n",
    "                              max_bin = 55, bagging_fraction = 0.8,\n",
    "                              bagging_freq = 5, feature_fraction = 0.2319,\n",
    "                              feature_fraction_seed=9, bagging_seed=9,\n",
    "                              min_data_in_leaf =6, min_sum_hessian_in_leaf = 11)"
   ]
  },
  {
   "cell_type": "code",
   "execution_count": 51,
   "metadata": {
    "collapsed": true
   },
   "outputs": [],
   "source": [
    "#Validation function\n",
    "n_folds = 5\n",
    "\n",
    "def rmsle_cv(model):\n",
    "    kf = KFold(n_folds, shuffle=True, random_state=42).get_n_splits(train.values)\n",
    "    rmse= np.sqrt(-cross_val_score(model, train.values, y_train, scoring=\"neg_mean_squared_error\", cv = kf))\n",
    "    return(rmse)"
   ]
  },
  {
   "cell_type": "code",
   "execution_count": 52,
   "metadata": {},
   "outputs": [
    {
     "name": "stdout",
     "output_type": "stream",
     "text": [
      "Lasso Regression Score: 2762.1640\n"
     ]
    }
   ],
   "source": [
    "# Lasso\n",
    "model_lasso = Lasso(alpha=10)\n",
    "#\n",
    "score = rmsle_cv(model_lasso)\n",
    "print(\"Lasso Regression Score: {:.4f}\".format(score.mean()))"
   ]
  },
  {
   "cell_type": "code",
   "execution_count": 53,
   "metadata": {},
   "outputs": [
    {
     "name": "stdout",
     "output_type": "stream",
     "text": [
      "ElasticNet Score: 2762.1640\n"
     ]
    }
   ],
   "source": [
    "# ElasticNet\n",
    "model_enet = ElasticNet(alpha=10,l1_ratio=1)\n",
    "#\n",
    "score = rmsle_cv(model_enet)\n",
    "print(\"ElasticNet Score: {:.4f}\".format(score.mean()))"
   ]
  },
  {
   "cell_type": "code",
   "execution_count": 54,
   "metadata": {},
   "outputs": [
    {
     "name": "stdout",
     "output_type": "stream",
     "text": [
      "XGBoost Score: 2682.9959\n"
     ]
    }
   ],
   "source": [
    "# XGBoost Regressor\n",
    "model_xgb = xgb.XGBRegressor(n_estimators=300, max_depth=2, learning_rate=0.05)\n",
    "\n",
    "score = rmsle_cv(model_xgb)\n",
    "print(\"XGBoost Score: {:.4f}\".format(score.mean()))"
   ]
  },
  {
   "cell_type": "code",
   "execution_count": 55,
   "metadata": {},
   "outputs": [
    {
     "name": "stdout",
     "output_type": "stream",
     "text": [
      "LGBM score: 2697.5511 (85.0214)\n",
      "\n"
     ]
    }
   ],
   "source": [
    "score = rmsle_cv(model_lgb)\n",
    "print(\"LGBM score: {:.4f} ({:.4f})\\n\" .format(score.mean(), score.std()))"
   ]
  },
  {
   "cell_type": "code",
   "execution_count": 56,
   "metadata": {
    "collapsed": true
   },
   "outputs": [],
   "source": [
    "class AveragingModels(BaseEstimator, RegressorMixin, TransformerMixin):\n",
    "    def __init__(self, models):\n",
    "        self.models = models\n",
    "        \n",
    "    # we define clones of the original models to fit the data in\n",
    "    def fit(self, X, y):\n",
    "        self.models_ = [clone(x) for x in self.models]\n",
    "        \n",
    "        # Train cloned base models\n",
    "        for model in self.models_:\n",
    "            model.fit(X, y)\n",
    "\n",
    "        return self\n",
    "    \n",
    "    #Now we do the predictions for cloned models and average them\n",
    "    def predict(self, X):\n",
    "        predictions = np.column_stack([\n",
    "            model.predict(X) for model in self.models_\n",
    "        ])\n",
    "        return np.mean(predictions, axis=1) "
   ]
  },
  {
   "cell_type": "code",
   "execution_count": 57,
   "metadata": {},
   "outputs": [
    {
     "name": "stdout",
     "output_type": "stream",
     "text": [
      " Averaged base models score: 2730.1340 (91.7183)\n",
      "\n"
     ]
    }
   ],
   "source": [
    "averaged_models = AveragingModels(models = (ENet, GBoost, lasso))\n",
    "\n",
    "score = rmsle_cv(averaged_models)\n",
    "print(\" Averaged base models score: {:.4f} ({:.4f})\\n\".format(score.mean(), score.std()))"
   ]
  },
  {
   "cell_type": "code",
   "execution_count": 58,
   "metadata": {
    "collapsed": true
   },
   "outputs": [],
   "source": [
    "class StackingAveragedModels(BaseEstimator, RegressorMixin, TransformerMixin):\n",
    "    def __init__(self, base_models, meta_model, n_folds=5):\n",
    "        self.base_models = base_models\n",
    "        self.meta_model = meta_model\n",
    "        self.n_folds = n_folds\n",
    "   \n",
    "    # We again fit the data on clones of the original models\n",
    "    def fit(self, X, y):\n",
    "        self.base_models_ = [list() for x in self.base_models]\n",
    "        self.meta_model_ = clone(self.meta_model)\n",
    "        kfold = KFold(n_splits=self.n_folds, shuffle=True, random_state=156)\n",
    "        \n",
    "        # Train cloned base models then create out-of-fold predictions\n",
    "        # that are needed to train the cloned meta-model\n",
    "        out_of_fold_predictions = np.zeros((X.shape[0], len(self.base_models)))\n",
    "        for i, model in enumerate(self.base_models):\n",
    "            for train_index, holdout_index in kfold.split(X, y):\n",
    "                instance = clone(model)\n",
    "                self.base_models_[i].append(instance)\n",
    "                instance.fit(X[train_index], y[train_index])\n",
    "                y_pred = instance.predict(X[holdout_index])\n",
    "                out_of_fold_predictions[holdout_index, i] = y_pred\n",
    "                \n",
    "        # Now train the cloned  meta-model using the out-of-fold predictions as new feature\n",
    "        self.meta_model_.fit(out_of_fold_predictions, y)\n",
    "        return self\n",
    "   \n",
    "    #Do the predictions of all base models on the test data and use the averaged predictions as \n",
    "    #meta-features for the final prediction which is done by the meta-model\n",
    "    def predict(self, X):\n",
    "        meta_features = np.column_stack([\n",
    "            np.column_stack([model.predict(X) for model in base_models]).mean(axis=1)\n",
    "            for base_models in self.base_models_ ])\n",
    "        return self.meta_model_.predict(meta_features)"
   ]
  },
  {
   "cell_type": "code",
   "execution_count": 59,
   "metadata": {
    "collapsed": true
   },
   "outputs": [],
   "source": [
    "stacked_averaged_models = StackingAveragedModels(base_models = (ENet, GBoost),\n",
    "                                                 meta_model = lasso)\n"
   ]
  },
  {
   "cell_type": "code",
   "execution_count": 60,
   "metadata": {
    "collapsed": true
   },
   "outputs": [],
   "source": [
    "def rmsle(y, y_pred):\n",
    "    return np.sqrt(mean_squared_error(y, y_pred))"
   ]
  },
  {
   "cell_type": "code",
   "execution_count": 61,
   "metadata": {},
   "outputs": [
    {
     "name": "stdout",
     "output_type": "stream",
     "text": [
      "2519.444197607844\n"
     ]
    }
   ],
   "source": [
    "stacked_averaged_models.fit(train.values, y_train)\n",
    "stacked_train_pred = stacked_averaged_models.predict(train.values)\n",
    "stacked_pred = (stacked_averaged_models.predict(test.values))\n",
    "print(rmsle(y_train, stacked_train_pred))"
   ]
  },
  {
   "cell_type": "code",
   "execution_count": 62,
   "metadata": {},
   "outputs": [
    {
     "name": "stdout",
     "output_type": "stream",
     "text": [
      "2596.8323574028595\n"
     ]
    }
   ],
   "source": [
    "model_xgb.fit(train, y_train)\n",
    "xgb_train_pred = model_xgb.predict(train)\n",
    "xgb_pred = model_xgb.predict(test)\n",
    "print(rmsle(y_train, xgb_train_pred))"
   ]
  },
  {
   "cell_type": "code",
   "execution_count": 63,
   "metadata": {},
   "outputs": [
    {
     "name": "stdout",
     "output_type": "stream",
     "text": [
      "2527.7087616405774\n"
     ]
    }
   ],
   "source": [
    "model_lgb.fit(train, y_train)\n",
    "lgb_train_pred = model_lgb.predict(train)\n",
    "lgb_pred = model_lgb.predict(test.values)\n",
    "print(rmsle(y_train, lgb_train_pred))"
   ]
  },
  {
   "cell_type": "code",
   "execution_count": 64,
   "metadata": {},
   "outputs": [
    {
     "name": "stdout",
     "output_type": "stream",
     "text": [
      "RMSLE score on train data:\n",
      "2516.5516786559524\n"
     ]
    }
   ],
   "source": [
    "'''RMSE on the entire Train data when averaging'''\n",
    "\n",
    "print('RMSLE score on train data:')\n",
    "print(rmsle(y_train,stacked_train_pred*0.70 +\n",
    "               xgb_train_pred*0.15 + lgb_train_pred*0.15 ))"
   ]
  },
  {
   "cell_type": "code",
   "execution_count": 65,
   "metadata": {
    "collapsed": true
   },
   "outputs": [],
   "source": [
    "ensemble = stacked_pred*0.70 + xgb_pred*0.15 + lgb_pred*0.15"
   ]
  },
  {
   "cell_type": "code",
   "execution_count": 66,
   "metadata": {},
   "outputs": [
    {
     "data": {
      "text/plain": [
       "array([3561.16721794, 8950.15817165, 4447.81188085, ..., 9464.59290964,\n",
       "       3928.08428132, 8861.08950771])"
      ]
     },
     "execution_count": 66,
     "metadata": {},
     "output_type": "execute_result"
    }
   ],
   "source": [
    "ensemble"
   ]
  },
  {
   "cell_type": "code",
   "execution_count": 69,
   "metadata": {
    "collapsed": true
   },
   "outputs": [],
   "source": [
    "sub = pd.DataFrame()\n",
    "sub['Product_Supermarket_Identifier'] = test_ID\n",
    "sub['Product_Supermarket_Sales'] = ensemble\n",
    "sub.to_csv('submission88.csv',index=False)"
   ]
  },
  {
   "cell_type": "code",
   "execution_count": 68,
   "metadata": {},
   "outputs": [],
   "source": [
    "#ensemble"
   ]
  },
  {
   "cell_type": "code",
   "execution_count": null,
   "metadata": {
    "collapsed": true
   },
   "outputs": [],
   "source": []
  }
 ],
 "metadata": {
  "kernelspec": {
   "display_name": "Python 3",
   "language": "python",
   "name": "python3"
  },
  "language_info": {
   "codemirror_mode": {
    "name": "ipython",
    "version": 3
   },
   "file_extension": ".py",
   "mimetype": "text/x-python",
   "name": "python",
   "nbconvert_exporter": "python",
   "pygments_lexer": "ipython3",
   "version": "3.6.5"
  }
 },
 "nbformat": 4,
 "nbformat_minor": 2
}
