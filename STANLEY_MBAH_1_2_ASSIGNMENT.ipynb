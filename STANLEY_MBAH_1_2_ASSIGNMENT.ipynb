{
  "nbformat": 4,
  "nbformat_minor": 0,
  "metadata": {
    "colab": {
      "name": "STANLEY_MBAH_1_2- ASSIGNMENT.ipynb",
      "provenance": [],
      "collapsed_sections": [],
      "include_colab_link": true
    },
    "kernelspec": {
      "name": "python3",
      "display_name": "Python 3"
    }
  },
  "cells": [
    {
      "cell_type": "markdown",
      "metadata": {
        "id": "view-in-github",
        "colab_type": "text"
      },
      "source": [
        "<a href=\"https://colab.research.google.com/github/Stanmest/.ipynb/blob/master/STANLEY_MBAH_1_2_ASSIGNMENT.ipynb\" target=\"_parent\"><img src=\"https://colab.research.google.com/assets/colab-badge.svg\" alt=\"Open In Colab\"/></a>"
      ]
    },
    {
      "cell_type": "markdown",
      "metadata": {
        "id": "ZvNsvUNNlZbi",
        "colab_type": "text"
      },
      "source": [
        "---\n",
        "# Lambda School Data Science - Intro to Statistics\n",
        "---\n",
        "# 02 - Descriptive Statistics I\n",
        "---\n",
        "\n"
      ]
    },
    {
      "cell_type": "markdown",
      "metadata": {
        "id": "y8HUQb0OOztX",
        "colab_type": "text"
      },
      "source": [
        "##STOP! BEFORE GOING ANY FURTHER...  \n",
        "\n",
        "\n",
        "1. Click \"File\" at the top.\n",
        "2. Then, \"Save a Copy in Drive.\"\n",
        "3. Change the file name to \"FIRSTNAME_LASTNAME_1_2\"  \n",
        "\n",
        "Now you have a copy of this notebook in your Drive account. This is the copy you'll edit and submit. Be sure to do this for ***every*** assignment!\n"
      ]
    },
    {
      "cell_type": "markdown",
      "metadata": {
        "id": "xMq6Of2Gt24o",
        "colab_type": "text"
      },
      "source": [
        "### Import Numpy, pandas, and matplotlib"
      ]
    },
    {
      "cell_type": "code",
      "metadata": {
        "id": "h3r0IvHVuGJb",
        "colab_type": "code",
        "colab": {}
      },
      "source": [
        "import numpy as np\n",
        "import pandas as pd\n",
        "import matplotlib as plt"
      ],
      "execution_count": 0,
      "outputs": []
    },
    {
      "cell_type": "markdown",
      "metadata": {
        "id": "DvYie7qokbDH",
        "colab_type": "text"
      },
      "source": [
        "### Import the data in the CSV file\n",
        "Today you'll be working with the tips dataset from the lecture. You can find the data [here](https://raw.githubusercontent.com/axrd/datasets/master/tipdata.csv). Be careful not to import an extra index column! See the lecture notebook for a workaround."
      ]
    },
    {
      "cell_type": "code",
      "metadata": {
        "id": "UNJo_50VktRs",
        "colab_type": "code",
        "colab": {}
      },
      "source": [
        "df = pd.read_csv(\"https://raw.githubusercontent.com/axrd/datasets/master/tipdata.csv\", index_col=0)\n"
      ],
      "execution_count": 0,
      "outputs": []
    },
    {
      "cell_type": "markdown",
      "metadata": {
        "id": "CYy4Zp5pk7tS",
        "colab_type": "text"
      },
      "source": [
        "### Print out the first 10 rows"
      ]
    },
    {
      "cell_type": "code",
      "metadata": {
        "id": "lIxLoTfGl910",
        "colab_type": "code",
        "outputId": "aa6d7374-b8b5-4bce-c3cd-2214f61dbc5a",
        "colab": {
          "base_uri": "https://localhost:8080/",
          "height": 359
        }
      },
      "source": [
        "df.head(10)"
      ],
      "execution_count": 4,
      "outputs": [
        {
          "output_type": "execute_result",
          "data": {
            "text/html": [
              "<div>\n",
              "<style scoped>\n",
              "    .dataframe tbody tr th:only-of-type {\n",
              "        vertical-align: middle;\n",
              "    }\n",
              "\n",
              "    .dataframe tbody tr th {\n",
              "        vertical-align: top;\n",
              "    }\n",
              "\n",
              "    .dataframe thead th {\n",
              "        text-align: right;\n",
              "    }\n",
              "</style>\n",
              "<table border=\"1\" class=\"dataframe\">\n",
              "  <thead>\n",
              "    <tr style=\"text-align: right;\">\n",
              "      <th></th>\n",
              "      <th>total_bill</th>\n",
              "      <th>tip</th>\n",
              "      <th>sex</th>\n",
              "      <th>smoker</th>\n",
              "      <th>day</th>\n",
              "      <th>time</th>\n",
              "      <th>size</th>\n",
              "    </tr>\n",
              "  </thead>\n",
              "  <tbody>\n",
              "    <tr>\n",
              "      <th>0</th>\n",
              "      <td>16.99</td>\n",
              "      <td>1.01</td>\n",
              "      <td>Female</td>\n",
              "      <td>No</td>\n",
              "      <td>Sun</td>\n",
              "      <td>Dinner</td>\n",
              "      <td>2</td>\n",
              "    </tr>\n",
              "    <tr>\n",
              "      <th>1</th>\n",
              "      <td>10.34</td>\n",
              "      <td>1.66</td>\n",
              "      <td>Male</td>\n",
              "      <td>No</td>\n",
              "      <td>Sun</td>\n",
              "      <td>Dinner</td>\n",
              "      <td>3</td>\n",
              "    </tr>\n",
              "    <tr>\n",
              "      <th>2</th>\n",
              "      <td>21.01</td>\n",
              "      <td>3.50</td>\n",
              "      <td>Male</td>\n",
              "      <td>No</td>\n",
              "      <td>Sun</td>\n",
              "      <td>Dinner</td>\n",
              "      <td>3</td>\n",
              "    </tr>\n",
              "    <tr>\n",
              "      <th>3</th>\n",
              "      <td>23.68</td>\n",
              "      <td>3.31</td>\n",
              "      <td>Male</td>\n",
              "      <td>No</td>\n",
              "      <td>Sun</td>\n",
              "      <td>Dinner</td>\n",
              "      <td>2</td>\n",
              "    </tr>\n",
              "    <tr>\n",
              "      <th>4</th>\n",
              "      <td>24.59</td>\n",
              "      <td>3.61</td>\n",
              "      <td>Female</td>\n",
              "      <td>No</td>\n",
              "      <td>Sun</td>\n",
              "      <td>Dinner</td>\n",
              "      <td>4</td>\n",
              "    </tr>\n",
              "    <tr>\n",
              "      <th>5</th>\n",
              "      <td>25.29</td>\n",
              "      <td>4.71</td>\n",
              "      <td>Male</td>\n",
              "      <td>No</td>\n",
              "      <td>Sun</td>\n",
              "      <td>Dinner</td>\n",
              "      <td>4</td>\n",
              "    </tr>\n",
              "    <tr>\n",
              "      <th>6</th>\n",
              "      <td>8.77</td>\n",
              "      <td>2.00</td>\n",
              "      <td>Male</td>\n",
              "      <td>No</td>\n",
              "      <td>Sun</td>\n",
              "      <td>Dinner</td>\n",
              "      <td>2</td>\n",
              "    </tr>\n",
              "    <tr>\n",
              "      <th>7</th>\n",
              "      <td>26.88</td>\n",
              "      <td>3.12</td>\n",
              "      <td>Male</td>\n",
              "      <td>No</td>\n",
              "      <td>Sun</td>\n",
              "      <td>Dinner</td>\n",
              "      <td>4</td>\n",
              "    </tr>\n",
              "    <tr>\n",
              "      <th>8</th>\n",
              "      <td>15.04</td>\n",
              "      <td>1.96</td>\n",
              "      <td>Male</td>\n",
              "      <td>No</td>\n",
              "      <td>Sun</td>\n",
              "      <td>Dinner</td>\n",
              "      <td>2</td>\n",
              "    </tr>\n",
              "    <tr>\n",
              "      <th>9</th>\n",
              "      <td>14.78</td>\n",
              "      <td>3.23</td>\n",
              "      <td>Male</td>\n",
              "      <td>No</td>\n",
              "      <td>Sun</td>\n",
              "      <td>Dinner</td>\n",
              "      <td>2</td>\n",
              "    </tr>\n",
              "  </tbody>\n",
              "</table>\n",
              "</div>"
            ],
            "text/plain": [
              "   total_bill   tip     sex smoker  day    time  size\n",
              "0       16.99  1.01  Female     No  Sun  Dinner     2\n",
              "1       10.34  1.66    Male     No  Sun  Dinner     3\n",
              "2       21.01  3.50    Male     No  Sun  Dinner     3\n",
              "3       23.68  3.31    Male     No  Sun  Dinner     2\n",
              "4       24.59  3.61  Female     No  Sun  Dinner     4\n",
              "5       25.29  4.71    Male     No  Sun  Dinner     4\n",
              "6        8.77  2.00    Male     No  Sun  Dinner     2\n",
              "7       26.88  3.12    Male     No  Sun  Dinner     4\n",
              "8       15.04  1.96    Male     No  Sun  Dinner     2\n",
              "9       14.78  3.23    Male     No  Sun  Dinner     2"
            ]
          },
          "metadata": {
            "tags": []
          },
          "execution_count": 4
        }
      ]
    },
    {
      "cell_type": "markdown",
      "metadata": {
        "id": "125CV0jpQ5vT",
        "colab_type": "text"
      },
      "source": [
        "### Print out the last 10 rows"
      ]
    },
    {
      "cell_type": "code",
      "metadata": {
        "id": "lMafok6zoGB-",
        "colab_type": "code",
        "outputId": "bc02448c-c224-4875-b310-0f6d454169cc",
        "colab": {
          "base_uri": "https://localhost:8080/",
          "height": 359
        }
      },
      "source": [
        "df.tail(10)"
      ],
      "execution_count": 5,
      "outputs": [
        {
          "output_type": "execute_result",
          "data": {
            "text/html": [
              "<div>\n",
              "<style scoped>\n",
              "    .dataframe tbody tr th:only-of-type {\n",
              "        vertical-align: middle;\n",
              "    }\n",
              "\n",
              "    .dataframe tbody tr th {\n",
              "        vertical-align: top;\n",
              "    }\n",
              "\n",
              "    .dataframe thead th {\n",
              "        text-align: right;\n",
              "    }\n",
              "</style>\n",
              "<table border=\"1\" class=\"dataframe\">\n",
              "  <thead>\n",
              "    <tr style=\"text-align: right;\">\n",
              "      <th></th>\n",
              "      <th>total_bill</th>\n",
              "      <th>tip</th>\n",
              "      <th>sex</th>\n",
              "      <th>smoker</th>\n",
              "      <th>day</th>\n",
              "      <th>time</th>\n",
              "      <th>size</th>\n",
              "    </tr>\n",
              "  </thead>\n",
              "  <tbody>\n",
              "    <tr>\n",
              "      <th>234</th>\n",
              "      <td>15.53</td>\n",
              "      <td>3.00</td>\n",
              "      <td>Male</td>\n",
              "      <td>Yes</td>\n",
              "      <td>Sat</td>\n",
              "      <td>Dinner</td>\n",
              "      <td>2</td>\n",
              "    </tr>\n",
              "    <tr>\n",
              "      <th>235</th>\n",
              "      <td>10.07</td>\n",
              "      <td>1.25</td>\n",
              "      <td>Male</td>\n",
              "      <td>No</td>\n",
              "      <td>Sat</td>\n",
              "      <td>Dinner</td>\n",
              "      <td>2</td>\n",
              "    </tr>\n",
              "    <tr>\n",
              "      <th>236</th>\n",
              "      <td>12.60</td>\n",
              "      <td>1.00</td>\n",
              "      <td>Male</td>\n",
              "      <td>Yes</td>\n",
              "      <td>Sat</td>\n",
              "      <td>Dinner</td>\n",
              "      <td>2</td>\n",
              "    </tr>\n",
              "    <tr>\n",
              "      <th>237</th>\n",
              "      <td>32.83</td>\n",
              "      <td>1.17</td>\n",
              "      <td>Male</td>\n",
              "      <td>Yes</td>\n",
              "      <td>Sat</td>\n",
              "      <td>Dinner</td>\n",
              "      <td>2</td>\n",
              "    </tr>\n",
              "    <tr>\n",
              "      <th>238</th>\n",
              "      <td>35.83</td>\n",
              "      <td>4.67</td>\n",
              "      <td>Female</td>\n",
              "      <td>No</td>\n",
              "      <td>Sat</td>\n",
              "      <td>Dinner</td>\n",
              "      <td>3</td>\n",
              "    </tr>\n",
              "    <tr>\n",
              "      <th>239</th>\n",
              "      <td>29.03</td>\n",
              "      <td>5.92</td>\n",
              "      <td>Male</td>\n",
              "      <td>No</td>\n",
              "      <td>Sat</td>\n",
              "      <td>Dinner</td>\n",
              "      <td>3</td>\n",
              "    </tr>\n",
              "    <tr>\n",
              "      <th>240</th>\n",
              "      <td>27.18</td>\n",
              "      <td>2.00</td>\n",
              "      <td>Female</td>\n",
              "      <td>Yes</td>\n",
              "      <td>Sat</td>\n",
              "      <td>Dinner</td>\n",
              "      <td>2</td>\n",
              "    </tr>\n",
              "    <tr>\n",
              "      <th>241</th>\n",
              "      <td>22.67</td>\n",
              "      <td>2.00</td>\n",
              "      <td>Male</td>\n",
              "      <td>Yes</td>\n",
              "      <td>Sat</td>\n",
              "      <td>Dinner</td>\n",
              "      <td>2</td>\n",
              "    </tr>\n",
              "    <tr>\n",
              "      <th>242</th>\n",
              "      <td>17.82</td>\n",
              "      <td>1.75</td>\n",
              "      <td>Male</td>\n",
              "      <td>No</td>\n",
              "      <td>Sat</td>\n",
              "      <td>Dinner</td>\n",
              "      <td>2</td>\n",
              "    </tr>\n",
              "    <tr>\n",
              "      <th>243</th>\n",
              "      <td>18.78</td>\n",
              "      <td>3.00</td>\n",
              "      <td>Female</td>\n",
              "      <td>No</td>\n",
              "      <td>Thur</td>\n",
              "      <td>Dinner</td>\n",
              "      <td>2</td>\n",
              "    </tr>\n",
              "  </tbody>\n",
              "</table>\n",
              "</div>"
            ],
            "text/plain": [
              "     total_bill   tip     sex smoker   day    time  size\n",
              "234       15.53  3.00    Male    Yes   Sat  Dinner     2\n",
              "235       10.07  1.25    Male     No   Sat  Dinner     2\n",
              "236       12.60  1.00    Male    Yes   Sat  Dinner     2\n",
              "237       32.83  1.17    Male    Yes   Sat  Dinner     2\n",
              "238       35.83  4.67  Female     No   Sat  Dinner     3\n",
              "239       29.03  5.92    Male     No   Sat  Dinner     3\n",
              "240       27.18  2.00  Female    Yes   Sat  Dinner     2\n",
              "241       22.67  2.00    Male    Yes   Sat  Dinner     2\n",
              "242       17.82  1.75    Male     No   Sat  Dinner     2\n",
              "243       18.78  3.00  Female     No  Thur  Dinner     2"
            ]
          },
          "metadata": {
            "tags": []
          },
          "execution_count": 5
        }
      ]
    },
    {
      "cell_type": "markdown",
      "metadata": {
        "id": "CfUYIGiuQ-o0",
        "colab_type": "text"
      },
      "source": [
        "### What is the shape of the DataFrame?"
      ]
    },
    {
      "cell_type": "code",
      "metadata": {
        "id": "hQGGcDNYQ-_b",
        "colab_type": "code",
        "outputId": "192840d7-18ca-46de-b69d-b087bb520062",
        "colab": {
          "base_uri": "https://localhost:8080/",
          "height": 34
        }
      },
      "source": [
        "df.shape"
      ],
      "execution_count": 6,
      "outputs": [
        {
          "output_type": "execute_result",
          "data": {
            "text/plain": [
              "(244, 7)"
            ]
          },
          "metadata": {
            "tags": []
          },
          "execution_count": 6
        }
      ]
    },
    {
      "cell_type": "markdown",
      "metadata": {
        "id": "7ecnTkAIQ_MW",
        "colab_type": "text"
      },
      "source": [
        "### What is the data type of each column/feature?"
      ]
    },
    {
      "cell_type": "code",
      "metadata": {
        "id": "_1U2esBGQ_XF",
        "colab_type": "code",
        "outputId": "7f9e9d46-8b02-4e75-ec86-6b024312204a",
        "colab": {
          "base_uri": "https://localhost:8080/",
          "height": 221
        }
      },
      "source": [
        "df.info()"
      ],
      "execution_count": 7,
      "outputs": [
        {
          "output_type": "stream",
          "text": [
            "<class 'pandas.core.frame.DataFrame'>\n",
            "Int64Index: 244 entries, 0 to 243\n",
            "Data columns (total 7 columns):\n",
            "total_bill    244 non-null float64\n",
            "tip           244 non-null float64\n",
            "sex           244 non-null object\n",
            "smoker        244 non-null object\n",
            "day           244 non-null object\n",
            "time          244 non-null object\n",
            "size          244 non-null int64\n",
            "dtypes: float64(2), int64(1), object(4)\n",
            "memory usage: 15.2+ KB\n"
          ],
          "name": "stdout"
        }
      ]
    },
    {
      "cell_type": "markdown",
      "metadata": {
        "id": "zSi247Ll_eDr",
        "colab_type": "text"
      },
      "source": [
        "### Are there any missing values?"
      ]
    },
    {
      "cell_type": "code",
      "metadata": {
        "id": "K0E0ESQa_eN7",
        "colab_type": "code",
        "outputId": "8888ccd6-238e-44fc-84d0-e27434ea817d",
        "colab": {
          "base_uri": "https://localhost:8080/",
          "height": 153
        }
      },
      "source": [
        "df.isnull().sum()"
      ],
      "execution_count": 8,
      "outputs": [
        {
          "output_type": "execute_result",
          "data": {
            "text/plain": [
              "total_bill    0\n",
              "tip           0\n",
              "sex           0\n",
              "smoker        0\n",
              "day           0\n",
              "time          0\n",
              "size          0\n",
              "dtype: int64"
            ]
          },
          "metadata": {
            "tags": []
          },
          "execution_count": 8
        }
      ]
    },
    {
      "cell_type": "markdown",
      "metadata": {
        "id": "p52saiQGbeMq",
        "colab_type": "text"
      },
      "source": [
        "### What is the average total bill? Calculate the mean, median, and mode. "
      ]
    },
    {
      "cell_type": "code",
      "metadata": {
        "id": "xfaSznJYIFi5",
        "colab_type": "code",
        "colab": {}
      },
      "source": [
        "from scipy import stats"
      ],
      "execution_count": 0,
      "outputs": []
    },
    {
      "cell_type": "code",
      "metadata": {
        "id": "5cWuMltDbkCX",
        "colab_type": "code",
        "outputId": "37d4047c-d0d3-491e-856e-fc0d038168b6",
        "colab": {
          "base_uri": "https://localhost:8080/",
          "height": 68
        }
      },
      "source": [
        "mean = np.mean(df[\"total_bill\"])\n",
        "median = np.median(df[\"total_bill\"])\n",
        "mode = stats.mode(df[\"total_bill\"])\n",
        "print(mean)\n",
        "print(median)\n",
        "print(mode)"
      ],
      "execution_count": 10,
      "outputs": [
        {
          "output_type": "stream",
          "text": [
            "19.785942622950824\n",
            "17.795\n",
            "ModeResult(mode=array([13.42]), count=array([3]))\n"
          ],
          "name": "stdout"
        }
      ]
    },
    {
      "cell_type": "markdown",
      "metadata": {
        "id": "Y7arWL1sblgY",
        "colab_type": "text"
      },
      "source": [
        "### Which of the three do you think best represents the data? Why?\n",
        "\n",
        "\n",
        "---\n",
        "\n"
      ]
    },
    {
      "cell_type": "markdown",
      "metadata": {
        "id": "EoyHH2vaLtJv",
        "colab_type": "text"
      },
      "source": [
        "The mean"
      ]
    },
    {
      "cell_type": "markdown",
      "metadata": {
        "id": "SNDL-Ms3L25T",
        "colab_type": "text"
      },
      "source": [
        "### Visualize the distribution of tips. Describe it (skew, kurtosis, etc.)."
      ]
    },
    {
      "cell_type": "code",
      "metadata": {
        "id": "WCynysVNL8ba",
        "colab_type": "code",
        "colab": {
          "base_uri": "https://localhost:8080/",
          "height": 282
        },
        "outputId": "e3cd89e9-13c7-4efb-935c-264c854caa46"
      },
      "source": [
        "df[\"tip\"].hist()"
      ],
      "execution_count": 11,
      "outputs": [
        {
          "output_type": "execute_result",
          "data": {
            "text/plain": [
              "<matplotlib.axes._subplots.AxesSubplot at 0x7f591c6d4f60>"
            ]
          },
          "metadata": {
            "tags": []
          },
          "execution_count": 11
        },
        {
          "output_type": "display_data",
          "data": {
            "image/png": "[encoded data removed]",
            "text/plain": [
              "<Figure size 432x288 with 1 Axes>"
            ]
          },
          "metadata": {
            "tags": []
          }
        }
      ]
    },
    {
      "cell_type": "markdown",
      "metadata": {
        "id": "ajdBc0TCL86s",
        "colab_type": "text"
      },
      "source": [
        "### What is the range of tips? "
      ]
    },
    {
      "cell_type": "code",
      "metadata": {
        "id": "vNws523YMZjV",
        "colab_type": "code",
        "colab": {}
      },
      "source": [
        "#The Range is between 0.1 and 9.9"
      ],
      "execution_count": 0,
      "outputs": []
    },
    {
      "cell_type": "markdown",
      "metadata": {
        "id": "KnDjAUCMVHSU",
        "colab_type": "text"
      },
      "source": [
        ""
      ]
    },
    {
      "cell_type": "markdown",
      "metadata": {
        "id": "bDKWckVmMZwF",
        "colab_type": "text"
      },
      "source": [
        "### Create a boxplot for tips. See module 6 of the Intro to Pandas lesson for hints. "
      ]
    },
    {
      "cell_type": "code",
      "metadata": {
        "id": "ESbBiXOi18et",
        "colab_type": "code",
        "colab": {}
      },
      "source": [
        "import matplotlib.pyplot as plt"
      ],
      "execution_count": 0,
      "outputs": []
    },
    {
      "cell_type": "code",
      "metadata": {
        "id": "Vji0RfScMZ3V",
        "colab_type": "code",
        "colab": {
          "base_uri": "https://localhost:8080/",
          "height": 265
        },
        "outputId": "796a59c4-5050-4df1-cb40-56d76fb10b85"
      },
      "source": [
        "plt.boxplot(df[\"tip\"])\n",
        "plt.show()"
      ],
      "execution_count": 16,
      "outputs": [
        {
          "output_type": "display_data",
          "data": {
            "image/png": "[encoded data removed]",
            "text/plain": [
              "<Figure size 432x288 with 1 Axes>"
            ]
          },
          "metadata": {
            "tags": []
          }
        }
      ]
    },
    {
      "cell_type": "markdown",
      "metadata": {
        "id": "hwDMcaJqMaAV",
        "colab_type": "text"
      },
      "source": [
        "### What was the most common day?"
      ]
    },
    {
      "cell_type": "code",
      "metadata": {
        "id": "80QNJNJVMaHu",
        "colab_type": "code",
        "colab": {
          "base_uri": "https://localhost:8080/",
          "height": 282
        },
        "outputId": "0f22d7d3-100b-401c-a25f-5152699ae34b"
      },
      "source": [
        "df[\"day\"].hist()"
      ],
      "execution_count": 17,
      "outputs": [
        {
          "output_type": "execute_result",
          "data": {
            "text/plain": [
              "<matplotlib.axes._subplots.AxesSubplot at 0x7f591c0e6e10>"
            ]
          },
          "metadata": {
            "tags": []
          },
          "execution_count": 17
        },
        {
          "output_type": "display_data",
          "data": {
            "image/png": "[encoded data removed]",
            "text/plain": [
              "<Figure size 432x288 with 1 Axes>"
            ]
          },
          "metadata": {
            "tags": []
          }
        }
      ]
    },
    {
      "cell_type": "code",
      "metadata": {
        "id": "Gixpy9DR2uUE",
        "colab_type": "code",
        "colab": {}
      },
      "source": [
        "#The Most Common day is Saturday"
      ],
      "execution_count": 0,
      "outputs": []
    },
    {
      "cell_type": "markdown",
      "metadata": {
        "id": "HjlVVANLMacl",
        "colab_type": "text"
      },
      "source": [
        "### What was the most common gender?"
      ]
    },
    {
      "cell_type": "code",
      "metadata": {
        "id": "MhcAO12yMaix",
        "colab_type": "code",
        "colab": {
          "base_uri": "https://localhost:8080/",
          "height": 282
        },
        "outputId": "88ee33b2-4f1a-4711-82f0-ece2b43544aa"
      },
      "source": [
        "df[\"sex\"].hist()"
      ],
      "execution_count": 18,
      "outputs": [
        {
          "output_type": "execute_result",
          "data": {
            "text/plain": [
              "<matplotlib.axes._subplots.AxesSubplot at 0x7f591c07a860>"
            ]
          },
          "metadata": {
            "tags": []
          },
          "execution_count": 18
        },
        {
          "output_type": "display_data",
          "data": {
            "image/png": "[encoded data removed]",
            "text/plain": [
              "<Figure size 432x288 with 1 Axes>"
            ]
          },
          "metadata": {
            "tags": []
          }
        }
      ]
    },
    {
      "cell_type": "code",
      "metadata": {
        "id": "djyB9RXQ2npZ",
        "colab_type": "code",
        "colab": {}
      },
      "source": [
        "#The Most Common gender is Male"
      ],
      "execution_count": 0,
      "outputs": []
    },
    {
      "cell_type": "markdown",
      "metadata": {
        "id": "Ug-Gt5uh_K-I",
        "colab_type": "text"
      },
      "source": [
        "### What is the standard deviation of \"tips\"?"
      ]
    },
    {
      "cell_type": "code",
      "metadata": {
        "id": "zGDobfGz_Qzd",
        "colab_type": "code",
        "colab": {
          "base_uri": "https://localhost:8080/",
          "height": 34
        },
        "outputId": "14a46bd7-9e28-4915-f4e7-40644829f404"
      },
      "source": [
        "np.std(df[\"tip\"])"
      ],
      "execution_count": 23,
      "outputs": [
        {
          "output_type": "execute_result",
          "data": {
            "text/plain": [
              "1.3807999538298958"
            ]
          },
          "metadata": {
            "tags": []
          },
          "execution_count": 23
        }
      ]
    },
    {
      "cell_type": "markdown",
      "metadata": {
        "id": "UNOb5Wh3_REX",
        "colab_type": "text"
      },
      "source": [
        "### What is the variance of total bill?"
      ]
    },
    {
      "cell_type": "code",
      "metadata": {
        "id": "TAkbMl9T_RPd",
        "colab_type": "code",
        "colab": {
          "base_uri": "https://localhost:8080/",
          "height": 34
        },
        "outputId": "76df78a6-26c8-42b5-a276-a1082b3b4ccc"
      },
      "source": [
        "np.var(df[\"total_bill\"])"
      ],
      "execution_count": 24,
      "outputs": [
        {
          "output_type": "execute_result",
          "data": {
            "text/plain": [
              "78.92813148851113"
            ]
          },
          "metadata": {
            "tags": []
          },
          "execution_count": 24
        }
      ]
    },
    {
      "cell_type": "markdown",
      "metadata": {
        "id": "D3B3Z8GvcY4Q",
        "colab_type": "text"
      },
      "source": [
        "### Submit your assignment notebook! (Make sure you've changed the name to FIRSTNAME_LASTNAME_1_2): \n",
        "\n",
        "1.  Click the Share button in the upper-right hand corner of the notebook.\n",
        "2.  Get the shareable link.\n",
        "3.  Set condition to: \"Anyone with the link can comment.\"\n",
        "4.  TBD \n",
        "\n",
        "\n",
        "---\n",
        "\n",
        "The question below is _optional_. Only tackle it after you've completed the rest of the assignment!"
      ]
    },
    {
      "cell_type": "markdown",
      "metadata": {
        "id": "m69ItJKqb7bh",
        "colab_type": "text"
      },
      "source": [
        "### STRETCH: Visualize all the numeric features and describe their distributions."
      ]
    },
    {
      "cell_type": "code",
      "metadata": {
        "id": "bEKgWDfscMmd",
        "colab_type": "code",
        "colab": {}
      },
      "source": [
        ""
      ],
      "execution_count": 0,
      "outputs": []
    }
  ]
}